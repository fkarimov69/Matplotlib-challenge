{
 "cells": [
  {
   "cell_type": "markdown",
   "metadata": {},
   "source": [
    "## Observations and Insights"
   ]
  },
  {
   "cell_type": "markdown",
   "metadata": {},
   "source": []
  },
  {
   "cell_type": "markdown",
   "metadata": {},
   "source": [
    "## Dependencies and starter code"
   ]
  },
  {
   "cell_type": "code",
   "execution_count": 3,
   "metadata": {},
   "outputs": [],
   "source": [
    "#%matplotlib notebook\n",
    "# Dependencies and Setup\n",
    "import matplotlib.pyplot as plt\n",
    "import pandas as pd\n",
    "import scipy.stats as st\n",
    "import numpy as np\n",
    "from scipy.stats import linregress\n",
    "import random\n",
    "\n",
    "# Study data files\n",
    "mouse_metadata = \"data/Mouse_metadata.csv\"\n",
    "study_results = \"data/Study_results.csv\"\n",
    "\n",
    "# Read the mouse data and the study results\n",
    "mouse_metadata = pd.read_csv(mouse_metadata)\n",
    "study_results = pd.read_csv(study_results)\n",
    "\n"
   ]
  },
  {
   "cell_type": "code",
   "execution_count": 4,
   "metadata": {},
   "outputs": [],
   "source": [
    "\n",
    "# Combine the data into a single dataset"
   ]
  },
  {
   "cell_type": "code",
   "execution_count": 5,
   "metadata": {},
   "outputs": [],
   "source": [
    "df = pd.merge(mouse_metadata, study_results, how=\"left\", on=[\"Mouse ID\", \"Mouse ID\"])"
   ]
  },
  {
   "cell_type": "code",
   "execution_count": 6,
   "metadata": {},
   "outputs": [],
   "source": [
    "#df"
   ]
  },
  {
   "cell_type": "markdown",
   "metadata": {},
   "source": [
    "## Summary statistics"
   ]
  },
  {
   "cell_type": "code",
   "execution_count": 7,
   "metadata": {},
   "outputs": [],
   "source": [
    "# Generate a summary statistics table of mean, median, variance, standard deviation, and SEM of the tumor volume for each regimen"
   ]
  },
  {
   "cell_type": "code",
   "execution_count": 8,
   "metadata": {},
   "outputs": [],
   "source": [
    "# create a subset for grouping by"
   ]
  },
  {
   "cell_type": "code",
   "execution_count": 9,
   "metadata": {},
   "outputs": [],
   "source": [
    "tumor_volume=df[[\"Drug Regimen\",\"Tumor Volume (mm3)\"]]"
   ]
  },
  {
   "cell_type": "code",
   "execution_count": 10,
   "metadata": {},
   "outputs": [],
   "source": [
    "#getting Describe() statistics"
   ]
  },
  {
   "cell_type": "code",
   "execution_count": 11,
   "metadata": {},
   "outputs": [],
   "source": [
    "tumor_volume_stat=tumor_volume.groupby(\"Drug Regimen\").describe()"
   ]
  },
  {
   "cell_type": "code",
   "execution_count": 12,
   "metadata": {},
   "outputs": [],
   "source": [
    "#getting Standard Error (SEM) stats"
   ]
  },
  {
   "cell_type": "code",
   "execution_count": 13,
   "metadata": {},
   "outputs": [],
   "source": [
    "tumor_volume_sem=tumor_volume.groupby(\"Drug Regimen\").sem()\n",
    "tumor_volume_sem=tumor_volume_sem.rename({\"Tumor Volume (mm3)\":\"SEM\"},axis=1)"
   ]
  },
  {
   "cell_type": "code",
   "execution_count": 14,
   "metadata": {},
   "outputs": [],
   "source": [
    "#getting Variance\n",
    "tumor_var=tumor_volume.groupby(\"Drug Regimen\").var()\n",
    "tumor_var=tumor_var.rename({\"Tumor Volume (mm3)\":\"VAR\"},axis=1)\n",
    "#tumor_var"
   ]
  },
  {
   "cell_type": "code",
   "execution_count": 15,
   "metadata": {},
   "outputs": [],
   "source": [
    "#merging Describe,SEM dfs and Var df's"
   ]
  },
  {
   "cell_type": "code",
   "execution_count": 16,
   "metadata": {},
   "outputs": [
    {
     "name": "stderr",
     "output_type": "stream",
     "text": [
      "C:\\ProgramData\\Anaconda3\\lib\\site-packages\\pandas\\core\\reshape\\merge.py:617: UserWarning: merging between different levels can give an unintended result (2 levels on the left, 1 on the right)\n",
      "  warnings.warn(msg, UserWarning)\n"
     ]
    }
   ],
   "source": [
    "tumor_volume_f=pd.merge(tumor_volume_stat,tumor_volume_sem,how=\"left\",on=[\"Drug Regimen\"])"
   ]
  },
  {
   "cell_type": "code",
   "execution_count": 17,
   "metadata": {},
   "outputs": [],
   "source": [
    "tumor_volume_final=pd.merge(tumor_volume_f,tumor_var,how=\"left\",on=[\"Drug Regimen\"])\n",
    "#tumor_volume_final"
   ]
  },
  {
   "cell_type": "code",
   "execution_count": 18,
   "metadata": {},
   "outputs": [],
   "source": [
    "#renaming columns in resulting df"
   ]
  },
  {
   "cell_type": "code",
   "execution_count": 19,
   "metadata": {},
   "outputs": [],
   "source": [
    "tumor_volume_final.columns=['Count','Mean','STD','MIN','25%','Meidan','75%','MAX','SEM','VARIANCE']\n",
    "#tumor_volume_final"
   ]
  },
  {
   "cell_type": "code",
   "execution_count": 20,
   "metadata": {},
   "outputs": [],
   "source": [
    "#Droping unnecessary columns\n",
    "tumor_volume_final=tumor_volume_final.drop(['MIN','25%','75%','MAX'],axis=1)"
   ]
  },
  {
   "cell_type": "code",
   "execution_count": 21,
   "metadata": {},
   "outputs": [
    {
     "data": {
      "text/html": [
       "<div>\n",
       "<style scoped>\n",
       "    .dataframe tbody tr th:only-of-type {\n",
       "        vertical-align: middle;\n",
       "    }\n",
       "\n",
       "    .dataframe tbody tr th {\n",
       "        vertical-align: top;\n",
       "    }\n",
       "\n",
       "    .dataframe thead th {\n",
       "        text-align: right;\n",
       "    }\n",
       "</style>\n",
       "<table border=\"1\" class=\"dataframe\">\n",
       "  <thead>\n",
       "    <tr style=\"text-align: right;\">\n",
       "      <th></th>\n",
       "      <th>Count</th>\n",
       "      <th>Mean</th>\n",
       "      <th>STD</th>\n",
       "      <th>Meidan</th>\n",
       "      <th>SEM</th>\n",
       "      <th>VARIANCE</th>\n",
       "    </tr>\n",
       "    <tr>\n",
       "      <th>Drug Regimen</th>\n",
       "      <th></th>\n",
       "      <th></th>\n",
       "      <th></th>\n",
       "      <th></th>\n",
       "      <th></th>\n",
       "      <th></th>\n",
       "    </tr>\n",
       "  </thead>\n",
       "  <tbody>\n",
       "    <tr>\n",
       "      <td>Capomulin</td>\n",
       "      <td>230.0</td>\n",
       "      <td>40.675741</td>\n",
       "      <td>4.994774</td>\n",
       "      <td>41.557809</td>\n",
       "      <td>0.329346</td>\n",
       "      <td>24.947764</td>\n",
       "    </tr>\n",
       "    <tr>\n",
       "      <td>Ceftamin</td>\n",
       "      <td>178.0</td>\n",
       "      <td>52.591172</td>\n",
       "      <td>6.268188</td>\n",
       "      <td>51.776157</td>\n",
       "      <td>0.469821</td>\n",
       "      <td>39.290177</td>\n",
       "    </tr>\n",
       "    <tr>\n",
       "      <td>Infubinol</td>\n",
       "      <td>178.0</td>\n",
       "      <td>52.884795</td>\n",
       "      <td>6.567243</td>\n",
       "      <td>51.820584</td>\n",
       "      <td>0.492236</td>\n",
       "      <td>43.128684</td>\n",
       "    </tr>\n",
       "    <tr>\n",
       "      <td>Ketapril</td>\n",
       "      <td>188.0</td>\n",
       "      <td>55.235638</td>\n",
       "      <td>8.279709</td>\n",
       "      <td>53.698743</td>\n",
       "      <td>0.603860</td>\n",
       "      <td>68.553577</td>\n",
       "    </tr>\n",
       "    <tr>\n",
       "      <td>Naftisol</td>\n",
       "      <td>186.0</td>\n",
       "      <td>54.331565</td>\n",
       "      <td>8.134708</td>\n",
       "      <td>52.509285</td>\n",
       "      <td>0.596466</td>\n",
       "      <td>66.173479</td>\n",
       "    </tr>\n",
       "    <tr>\n",
       "      <td>Placebo</td>\n",
       "      <td>181.0</td>\n",
       "      <td>54.033581</td>\n",
       "      <td>7.821003</td>\n",
       "      <td>52.288934</td>\n",
       "      <td>0.581331</td>\n",
       "      <td>61.168083</td>\n",
       "    </tr>\n",
       "    <tr>\n",
       "      <td>Propriva</td>\n",
       "      <td>161.0</td>\n",
       "      <td>52.322552</td>\n",
       "      <td>6.507770</td>\n",
       "      <td>50.854632</td>\n",
       "      <td>0.512884</td>\n",
       "      <td>42.351070</td>\n",
       "    </tr>\n",
       "    <tr>\n",
       "      <td>Ramicane</td>\n",
       "      <td>228.0</td>\n",
       "      <td>40.216745</td>\n",
       "      <td>4.846308</td>\n",
       "      <td>40.673236</td>\n",
       "      <td>0.320955</td>\n",
       "      <td>23.486704</td>\n",
       "    </tr>\n",
       "    <tr>\n",
       "      <td>Stelasyn</td>\n",
       "      <td>181.0</td>\n",
       "      <td>54.233149</td>\n",
       "      <td>7.710419</td>\n",
       "      <td>52.431737</td>\n",
       "      <td>0.573111</td>\n",
       "      <td>59.450562</td>\n",
       "    </tr>\n",
       "    <tr>\n",
       "      <td>Zoniferol</td>\n",
       "      <td>182.0</td>\n",
       "      <td>53.236507</td>\n",
       "      <td>6.966589</td>\n",
       "      <td>51.818479</td>\n",
       "      <td>0.516398</td>\n",
       "      <td>48.533355</td>\n",
       "    </tr>\n",
       "  </tbody>\n",
       "</table>\n",
       "</div>"
      ],
      "text/plain": [
       "              Count       Mean       STD     Meidan       SEM   VARIANCE\n",
       "Drug Regimen                                                            \n",
       "Capomulin     230.0  40.675741  4.994774  41.557809  0.329346  24.947764\n",
       "Ceftamin      178.0  52.591172  6.268188  51.776157  0.469821  39.290177\n",
       "Infubinol     178.0  52.884795  6.567243  51.820584  0.492236  43.128684\n",
       "Ketapril      188.0  55.235638  8.279709  53.698743  0.603860  68.553577\n",
       "Naftisol      186.0  54.331565  8.134708  52.509285  0.596466  66.173479\n",
       "Placebo       181.0  54.033581  7.821003  52.288934  0.581331  61.168083\n",
       "Propriva      161.0  52.322552  6.507770  50.854632  0.512884  42.351070\n",
       "Ramicane      228.0  40.216745  4.846308  40.673236  0.320955  23.486704\n",
       "Stelasyn      181.0  54.233149  7.710419  52.431737  0.573111  59.450562\n",
       "Zoniferol     182.0  53.236507  6.966589  51.818479  0.516398  48.533355"
      ]
     },
     "execution_count": 21,
     "metadata": {},
     "output_type": "execute_result"
    }
   ],
   "source": [
    "#Summary table\n",
    "tumor_volume_final"
   ]
  },
  {
   "cell_type": "code",
   "execution_count": null,
   "metadata": {},
   "outputs": [],
   "source": []
  },
  {
   "cell_type": "markdown",
   "metadata": {},
   "source": [
    "## Bar plots"
   ]
  },
  {
   "cell_type": "code",
   "execution_count": 22,
   "metadata": {},
   "outputs": [],
   "source": [
    "# Generate a bar plot showing number of data points for each treatment regimen using pandas"
   ]
  },
  {
   "cell_type": "code",
   "execution_count": 23,
   "metadata": {},
   "outputs": [],
   "source": [
    "data_point_df=tumor_volume_final[[\"Count\"]]\n",
    "#tumor_list"
   ]
  },
  {
   "cell_type": "code",
   "execution_count": 24,
   "metadata": {},
   "outputs": [],
   "source": [
    "data_point_fin=data_point_df.reset_index()\n"
   ]
  },
  {
   "cell_type": "code",
   "execution_count": 25,
   "metadata": {},
   "outputs": [],
   "source": [
    "data_point_fin.columns=['Treatment','Count']\n",
    "#data_point_fin"
   ]
  },
  {
   "cell_type": "code",
   "execution_count": 101,
   "metadata": {
    "scrolled": true
   },
   "outputs": [
    {
     "data": {
      "image/png": "[encoded data removed]",
      "text/plain": [
       "<Figure size 432x288 with 1 Axes>"
      ]
     },
     "metadata": {
      "needs_background": "light"
     },
     "output_type": "display_data"
    },
    {
     "data": {
      "text/plain": [
       "<Figure size 432x288 with 0 Axes>"
      ]
     },
     "metadata": {},
     "output_type": "display_data"
    }
   ],
   "source": [
    "#ax=data_point_fin.Count.plot(kind=\"bar\",figsize=(5,3),xticks=data_point_fin.index,rot=90)\n",
    "#ax.set_xticklabels(data_point_fin.Treatment)\n",
    "data_point_fin.plot.bar(x='Treatment')\n",
    "#x_t=data_point_fin['Treatment']\n",
    "#set title\n",
    "plt.title(\"Data points per treatment\")\n",
    "plt.xlabel('Treatment')\n",
    "#plt.xticks(data_point_fin['Treatment'])\n",
    "plt.ylabel('Number of DataPoints')\n",
    "plt.show()\n",
    "plt.tight_layout()\n"
   ]
  },
  {
   "cell_type": "code",
   "execution_count": 27,
   "metadata": {},
   "outputs": [],
   "source": [
    "# Generate a bar plot showing number of data points for each treatment regimen using pyplot"
   ]
  },
  {
   "cell_type": "code",
   "execution_count": 28,
   "metadata": {},
   "outputs": [],
   "source": [
    "#set x axis and Tick locations\n",
    "x_axis=np.arange(len(data_point_fin))\n",
    "tick_locations=[x for x in x_axis]"
   ]
  },
  {
   "cell_type": "code",
   "execution_count": 29,
   "metadata": {},
   "outputs": [
    {
     "data": {
      "image/png": "[encoded data removed]",
      "text/plain": [
       "<Figure size 504x288 with 1 Axes>"
      ]
     },
     "metadata": {
      "needs_background": "light"
     },
     "output_type": "display_data"
    }
   ],
   "source": [
    "#setting plot\n",
    "plt.figure(figsize=(7,4))\n",
    "plt.bar(x_axis,data_point_fin[\"Count\"],color='r',alpha=0.75,width=0.4,align=\"center\")\n",
    "plt.xticks(tick_locations,data_point_fin[\"Treatment\"],rotation=\"vertical\")\n",
    "#setting X and y limits\n",
    "plt.xlim(-0.5,len(x_axis))\n",
    "plt.ylim(0,max(data_point_fin['Count'])+50)\n",
    "#set title and labels\n",
    "plt.title(\"Data points for each treatment\")\n",
    "plt.xlabel(\"Treatment\")\n",
    "plt.ylabel(\"Number of data points\")\n",
    "plt.tight_layout()"
   ]
  },
  {
   "cell_type": "code",
   "execution_count": null,
   "metadata": {},
   "outputs": [],
   "source": []
  },
  {
   "cell_type": "code",
   "execution_count": null,
   "metadata": {},
   "outputs": [],
   "source": []
  },
  {
   "cell_type": "markdown",
   "metadata": {},
   "source": [
    "## Pie plots"
   ]
  },
  {
   "cell_type": "code",
   "execution_count": 30,
   "metadata": {},
   "outputs": [],
   "source": [
    "# Generate a pie plot showing the distribution of female versus male mice using pandas"
   ]
  },
  {
   "cell_type": "code",
   "execution_count": 31,
   "metadata": {},
   "outputs": [],
   "source": [
    "#df"
   ]
  },
  {
   "cell_type": "code",
   "execution_count": 32,
   "metadata": {},
   "outputs": [],
   "source": [
    "df_pie=df[[\"Drug Regimen\",\"Sex\"]]\n",
    "#df_pie"
   ]
  },
  {
   "cell_type": "code",
   "execution_count": 33,
   "metadata": {},
   "outputs": [
    {
     "data": {
      "text/html": [
       "<div>\n",
       "<style scoped>\n",
       "    .dataframe tbody tr th:only-of-type {\n",
       "        vertical-align: middle;\n",
       "    }\n",
       "\n",
       "    .dataframe tbody tr th {\n",
       "        vertical-align: top;\n",
       "    }\n",
       "\n",
       "    .dataframe thead th {\n",
       "        text-align: right;\n",
       "    }\n",
       "</style>\n",
       "<table border=\"1\" class=\"dataframe\">\n",
       "  <thead>\n",
       "    <tr style=\"text-align: right;\">\n",
       "      <th></th>\n",
       "      <th>Drug Regimen</th>\n",
       "    </tr>\n",
       "    <tr>\n",
       "      <th>Sex</th>\n",
       "      <th></th>\n",
       "    </tr>\n",
       "  </thead>\n",
       "  <tbody>\n",
       "    <tr>\n",
       "      <td>Female</td>\n",
       "      <td>935</td>\n",
       "    </tr>\n",
       "    <tr>\n",
       "      <td>Male</td>\n",
       "      <td>958</td>\n",
       "    </tr>\n",
       "  </tbody>\n",
       "</table>\n",
       "</div>"
      ],
      "text/plain": [
       "        Drug Regimen\n",
       "Sex                 \n",
       "Female           935\n",
       "Male             958"
      ]
     },
     "execution_count": 33,
     "metadata": {},
     "output_type": "execute_result"
    }
   ],
   "source": [
    "df_pie_group=df_pie.groupby(\"Sex\").count()\n",
    "df_pie_group.head()"
   ]
  },
  {
   "cell_type": "code",
   "execution_count": 34,
   "metadata": {},
   "outputs": [
    {
     "data": {
      "text/plain": [
       "array([<matplotlib.axes._subplots.AxesSubplot object at 0x0000016CA83D2588>],\n",
       "      dtype=object)"
      ]
     },
     "execution_count": 34,
     "metadata": {},
     "output_type": "execute_result"
    },
    {
     "data": {
      "image/png": "[encoded data removed]",
      "text/plain": [
       "<Figure size 360x360 with 1 Axes>"
      ]
     },
     "metadata": {},
     "output_type": "display_data"
    }
   ],
   "source": [
    "df_pie_group.plot(kind=\"pie\",subplots=True,figsize=(5,5),autopct=\"%1.1f%%\")\n"
   ]
  },
  {
   "cell_type": "code",
   "execution_count": 35,
   "metadata": {},
   "outputs": [],
   "source": [
    "df_pie_mat=df[[\"Drug Regimen\",\"Sex\"]]\n",
    "df_pie_mat.columns=[\"Drug\",\"Gender\"]"
   ]
  },
  {
   "cell_type": "code",
   "execution_count": 36,
   "metadata": {},
   "outputs": [],
   "source": [
    "df_mat_group=df_pie_mat.groupby(\"Gender\").count()\n",
    "#df_mat_group"
   ]
  },
  {
   "cell_type": "code",
   "execution_count": 37,
   "metadata": {},
   "outputs": [],
   "source": [
    "\n",
    "v=df_mat_group.reset_index()\n",
    "#v"
   ]
  },
  {
   "cell_type": "code",
   "execution_count": 38,
   "metadata": {},
   "outputs": [],
   "source": [
    "sex=v[\"Gender\"].tolist()\n",
    "#sex"
   ]
  },
  {
   "cell_type": "code",
   "execution_count": 39,
   "metadata": {},
   "outputs": [],
   "source": [
    "count=v[\"Drug\"].tolist()\n",
    "#count"
   ]
  },
  {
   "cell_type": "code",
   "execution_count": 40,
   "metadata": {},
   "outputs": [],
   "source": [
    "# Generate a pie plot showing the distribution of female versus male mice using pyplot"
   ]
  },
  {
   "cell_type": "code",
   "execution_count": 41,
   "metadata": {},
   "outputs": [
    {
     "data": {
      "text/plain": [
       "([<matplotlib.patches.Wedge at 0x16ca8458f08>,\n",
       "  <matplotlib.patches.Wedge at 0x16ca8463b48>],\n",
       " [Text(0.02099250347258556, 1.0997996703027118, 'Female'),\n",
       "  Text(-0.020992503472586185, -1.0997996703027118, 'Male')],\n",
       " [Text(0.011450456439592123, 0.5998907292560246, '49.4%'),\n",
       "  Text(-0.011450456439592464, -0.5998907292560246, '50.6%')])"
      ]
     },
     "execution_count": 41,
     "metadata": {},
     "output_type": "execute_result"
    },
    {
     "data": {
      "image/png": "[encoded data removed]",
      "text/plain": [
       "<Figure size 432x288 with 1 Axes>"
      ]
     },
     "metadata": {},
     "output_type": "display_data"
    }
   ],
   "source": [
    "plt.pie(count,labels=sex,autopct=\"%1.1f%%\",startangle=0)\n"
   ]
  },
  {
   "cell_type": "markdown",
   "metadata": {},
   "source": [
    "## Quartiles, outliers and boxplots"
   ]
  },
  {
   "cell_type": "code",
   "execution_count": 42,
   "metadata": {},
   "outputs": [],
   "source": [
    "# Calculate the final tumor volume of each mouse across four of the most promising treatment regimens. Calculate the IQR and quantitatively determine if there are any potential outliers."
   ]
  },
  {
   "cell_type": "code",
   "execution_count": 43,
   "metadata": {},
   "outputs": [],
   "source": [
    "#df[df['Mouse ID']=='b742']\n",
    "#df[df['Tumor Volume (mm3)']>105]"
   ]
  },
  {
   "cell_type": "code",
   "execution_count": 44,
   "metadata": {},
   "outputs": [],
   "source": [
    "#creating df with latest Datapoints\n",
    "best_regimen=df[['Mouse ID','Drug Regimen','Timepoint','Tumor Volume (mm3)']]\n",
    "v=best_regimen[best_regimen['Timepoint']==best_regimen['Timepoint'].max()]\n",
    "w=v[['Mouse ID','Drug Regimen','Tumor Volume (mm3)']]\n",
    "#w\n",
    "#v[:60]"
   ]
  },
  {
   "cell_type": "code",
   "execution_count": 45,
   "metadata": {},
   "outputs": [
    {
     "data": {
      "text/html": [
       "<div>\n",
       "<style scoped>\n",
       "    .dataframe tbody tr th:only-of-type {\n",
       "        vertical-align: middle;\n",
       "    }\n",
       "\n",
       "    .dataframe tbody tr th {\n",
       "        vertical-align: top;\n",
       "    }\n",
       "\n",
       "    .dataframe thead th {\n",
       "        text-align: right;\n",
       "    }\n",
       "</style>\n",
       "<table border=\"1\" class=\"dataframe\">\n",
       "  <thead>\n",
       "    <tr style=\"text-align: right;\">\n",
       "      <th></th>\n",
       "      <th>Drug Regimen</th>\n",
       "      <th>Tumor Volume (mm3)</th>\n",
       "    </tr>\n",
       "  </thead>\n",
       "  <tbody>\n",
       "    <tr>\n",
       "      <td>7</td>\n",
       "      <td>Ramicane</td>\n",
       "      <td>34.955595</td>\n",
       "    </tr>\n",
       "    <tr>\n",
       "      <td>0</td>\n",
       "      <td>Capomulin</td>\n",
       "      <td>36.236114</td>\n",
       "    </tr>\n",
       "    <tr>\n",
       "      <td>1</td>\n",
       "      <td>Ceftamin</td>\n",
       "      <td>64.132421</td>\n",
       "    </tr>\n",
       "    <tr>\n",
       "      <td>2</td>\n",
       "      <td>Infubinol</td>\n",
       "      <td>65.755562</td>\n",
       "    </tr>\n",
       "    <tr>\n",
       "      <td>9</td>\n",
       "      <td>Zoniferol</td>\n",
       "      <td>65.960888</td>\n",
       "    </tr>\n",
       "    <tr>\n",
       "      <td>6</td>\n",
       "      <td>Propriva</td>\n",
       "      <td>66.258529</td>\n",
       "    </tr>\n",
       "    <tr>\n",
       "      <td>5</td>\n",
       "      <td>Placebo</td>\n",
       "      <td>68.084082</td>\n",
       "    </tr>\n",
       "    <tr>\n",
       "      <td>8</td>\n",
       "      <td>Stelasyn</td>\n",
       "      <td>68.438310</td>\n",
       "    </tr>\n",
       "    <tr>\n",
       "      <td>4</td>\n",
       "      <td>Naftisol</td>\n",
       "      <td>69.265506</td>\n",
       "    </tr>\n",
       "    <tr>\n",
       "      <td>3</td>\n",
       "      <td>Ketapril</td>\n",
       "      <td>70.662958</td>\n",
       "    </tr>\n",
       "  </tbody>\n",
       "</table>\n",
       "</div>"
      ],
      "text/plain": [
       "  Drug Regimen  Tumor Volume (mm3)\n",
       "7     Ramicane           34.955595\n",
       "0    Capomulin           36.236114\n",
       "1     Ceftamin           64.132421\n",
       "2    Infubinol           65.755562\n",
       "9    Zoniferol           65.960888\n",
       "6     Propriva           66.258529\n",
       "5      Placebo           68.084082\n",
       "8     Stelasyn           68.438310\n",
       "4     Naftisol           69.265506\n",
       "3     Ketapril           70.662958"
      ]
     },
     "execution_count": 45,
     "metadata": {},
     "output_type": "execute_result"
    }
   ],
   "source": [
    "#Grouping it by Drug Regimen and sorting it\n",
    "c=w.groupby(['Drug Regimen']).mean()\n",
    "c=c.reset_index()\n",
    "#c\n",
    "best_sorted=c.sort_values(by='Tumor Volume (mm3)',ascending=True)\n",
    "best_sorted"
   ]
  },
  {
   "cell_type": "code",
   "execution_count": 46,
   "metadata": {},
   "outputs": [],
   "source": [
    "#creating sorted list of Regimens\n",
    "list0=best_sorted['Drug Regimen'].tolist()\n",
    "#list0\n"
   ]
  },
  {
   "cell_type": "code",
   "execution_count": 47,
   "metadata": {},
   "outputs": [
    {
     "data": {
      "text/plain": [
       "['Ramicane', 'Capomulin', 'Ceftamin', 'Infubinol']"
      ]
     },
     "execution_count": 47,
     "metadata": {},
     "output_type": "execute_result"
    }
   ],
   "source": [
    "#taking 4 most promising from the list\n",
    "best_four=best_sorted.iloc[:4]\n",
    "bf1=best_four.reset_index()\n",
    "#bf1\n",
    "list1=bf1['Drug Regimen'].tolist()\n",
    "list1"
   ]
  },
  {
   "cell_type": "code",
   "execution_count": 48,
   "metadata": {},
   "outputs": [],
   "source": [
    "#creating df with 4 most promising studies data\n",
    "best_four_df=w[w['Drug Regimen'].isin(list1)]\n",
    "#best_four_df"
   ]
  },
  {
   "cell_type": "code",
   "execution_count": 49,
   "metadata": {},
   "outputs": [
    {
     "data": {
      "text/html": [
       "<div>\n",
       "<style scoped>\n",
       "    .dataframe tbody tr th:only-of-type {\n",
       "        vertical-align: middle;\n",
       "    }\n",
       "\n",
       "    .dataframe tbody tr th {\n",
       "        vertical-align: top;\n",
       "    }\n",
       "\n",
       "    .dataframe thead th {\n",
       "        text-align: right;\n",
       "    }\n",
       "</style>\n",
       "<table border=\"1\" class=\"dataframe\">\n",
       "  <thead>\n",
       "    <tr style=\"text-align: right;\">\n",
       "      <th></th>\n",
       "      <th></th>\n",
       "      <th>Tumor Volume (mm3)</th>\n",
       "    </tr>\n",
       "    <tr>\n",
       "      <th>Drug Regimen</th>\n",
       "      <th>Mouse ID</th>\n",
       "      <th></th>\n",
       "    </tr>\n",
       "  </thead>\n",
       "  <tbody>\n",
       "    <tr>\n",
       "      <td rowspan=\"5\" valign=\"top\">Capomulin</td>\n",
       "      <td>b128</td>\n",
       "      <td>38.982878</td>\n",
       "    </tr>\n",
       "    <tr>\n",
       "      <td>b742</td>\n",
       "      <td>38.939633</td>\n",
       "    </tr>\n",
       "    <tr>\n",
       "      <td>g288</td>\n",
       "      <td>37.074024</td>\n",
       "    </tr>\n",
       "    <tr>\n",
       "      <td>g316</td>\n",
       "      <td>40.159220</td>\n",
       "    </tr>\n",
       "    <tr>\n",
       "      <td>i557</td>\n",
       "      <td>47.685963</td>\n",
       "    </tr>\n",
       "    <tr>\n",
       "      <td>...</td>\n",
       "      <td>...</td>\n",
       "      <td>...</td>\n",
       "    </tr>\n",
       "    <tr>\n",
       "      <td rowspan=\"5\" valign=\"top\">Ramicane</td>\n",
       "      <td>q597</td>\n",
       "      <td>45.220869</td>\n",
       "    </tr>\n",
       "    <tr>\n",
       "      <td>r811</td>\n",
       "      <td>37.225650</td>\n",
       "    </tr>\n",
       "    <tr>\n",
       "      <td>s508</td>\n",
       "      <td>30.276232</td>\n",
       "    </tr>\n",
       "    <tr>\n",
       "      <td>u196</td>\n",
       "      <td>40.667713</td>\n",
       "    </tr>\n",
       "    <tr>\n",
       "      <td>z578</td>\n",
       "      <td>30.638696</td>\n",
       "    </tr>\n",
       "  </tbody>\n",
       "</table>\n",
       "<p>63 rows × 1 columns</p>\n",
       "</div>"
      ],
      "text/plain": [
       "                       Tumor Volume (mm3)\n",
       "Drug Regimen Mouse ID                    \n",
       "Capomulin    b128               38.982878\n",
       "             b742               38.939633\n",
       "             g288               37.074024\n",
       "             g316               40.159220\n",
       "             i557               47.685963\n",
       "...                                   ...\n",
       "Ramicane     q597               45.220869\n",
       "             r811               37.225650\n",
       "             s508               30.276232\n",
       "             u196               40.667713\n",
       "             z578               30.638696\n",
       "\n",
       "[63 rows x 1 columns]"
      ]
     },
     "execution_count": 49,
     "metadata": {},
     "output_type": "execute_result"
    }
   ],
   "source": [
    "#groupnig by Regimen and Mouse ID\n",
    "fin_tumor_df=best_four_df.groupby(['Drug Regimen','Mouse ID']).first()\n",
    "#t=fin_tumor_df.reset_index()\n",
    "#best_four_res=t[t['Drug Regimen'].isin(list1)]\n",
    "#best_four_res\n",
    "fin_tumor_df"
   ]
  },
  {
   "cell_type": "code",
   "execution_count": 50,
   "metadata": {},
   "outputs": [
    {
     "data": {
      "text/plain": [
       "Tumor Volume (mm3)    28.662186\n",
       "dtype: float64"
      ]
     },
     "execution_count": 50,
     "metadata": {},
     "output_type": "execute_result"
    }
   ],
   "source": [
    "quartile=fin_tumor_df.quantile([.25,.5,.75])\n",
    "#quartile\n",
    "lowerq=quartile.loc[0.25]\n",
    "upperq=quartile.loc[0.75]\n",
    "iqr=upperq-lowerq\n",
    "iqr\n",
    "#lowerq"
   ]
  },
  {
   "cell_type": "code",
   "execution_count": null,
   "metadata": {},
   "outputs": [],
   "source": []
  },
  {
   "cell_type": "code",
   "execution_count": 51,
   "metadata": {},
   "outputs": [
    {
     "name": "stdout",
     "output_type": "stream",
     "text": [
      "The lower quartile is: Tumor Volume (mm3)    33.480027\n",
      "Name: 0.25, dtype: float64\n",
      "The upper quartile is: Tumor Volume (mm3)    62.142214\n",
      "Name: 0.75, dtype: float64\n",
      "The interquartile range: Tumor Volume (mm3)    28.662186\n",
      "dtype: float64\n",
      "The the median of Tumor Volume is: Tumor Volume (mm3)    40.15922\n",
      "Name: 0.5, dtype: float64 \n",
      "Values below Tumor Volume (mm3)   -9.513252\n",
      "dtype: float64 could be outliers.\n",
      "Values above Tumor Volume (mm3)    105.135493\n",
      "dtype: float64 could be outliers.\n"
     ]
    }
   ],
   "source": [
    "print(f\"The lower quartile is: {lowerq}\")\n",
    "print(f\"The upper quartile is: {upperq}\")\n",
    "print(f\"The interquartile range: {iqr}\")\n",
    "print(f\"The the median of Tumor Volume is: {quartile.loc[0.5]} \")\n",
    "\n",
    "lower_bound = lowerq - (1.5*iqr)\n",
    "upper_bound = upperq + (1.5*iqr)\n",
    "print(f\"Values below {lower_bound} could be outliers.\")\n",
    "print(f\"Values above {upper_bound} could be outliers.\")"
   ]
  },
  {
   "cell_type": "code",
   "execution_count": 52,
   "metadata": {},
   "outputs": [],
   "source": [
    "# Generate a box plot of the final tumor volume of each mouse across four regimens of interest"
   ]
  },
  {
   "cell_type": "code",
   "execution_count": 53,
   "metadata": {},
   "outputs": [
    {
     "data": {
      "image/png": "[encoded data removed]",
      "text/plain": [
       "<Figure size 432x288 with 1 Axes>"
      ]
     },
     "metadata": {
      "needs_background": "light"
     },
     "output_type": "display_data"
    }
   ],
   "source": [
    "fin_tumor_bp=fin_tumor_df['Tumor Volume (mm3)']\n",
    "fig1,ax1=plt.subplots()\n",
    "ax1.set_title('Tumor Volumes')\n",
    "ax1.set_ylabel('Volume(mm3)')\n",
    "ax1.boxplot(fin_tumor_bp)\n",
    "plt.show()"
   ]
  },
  {
   "cell_type": "code",
   "execution_count": 54,
   "metadata": {},
   "outputs": [
    {
     "data": {
      "text/html": [
       "<div>\n",
       "<style scoped>\n",
       "    .dataframe tbody tr th:only-of-type {\n",
       "        vertical-align: middle;\n",
       "    }\n",
       "\n",
       "    .dataframe tbody tr th {\n",
       "        vertical-align: top;\n",
       "    }\n",
       "\n",
       "    .dataframe thead th {\n",
       "        text-align: right;\n",
       "    }\n",
       "</style>\n",
       "<table border=\"1\" class=\"dataframe\">\n",
       "  <thead>\n",
       "    <tr style=\"text-align: right;\">\n",
       "      <th></th>\n",
       "      <th>Drug Regimen</th>\n",
       "      <th>Mouse ID</th>\n",
       "      <th>Tumor Volume (mm3)</th>\n",
       "    </tr>\n",
       "  </thead>\n",
       "  <tbody>\n",
       "    <tr>\n",
       "      <td>0</td>\n",
       "      <td>Capomulin</td>\n",
       "      <td>b128</td>\n",
       "      <td>38.982878</td>\n",
       "    </tr>\n",
       "    <tr>\n",
       "      <td>1</td>\n",
       "      <td>Capomulin</td>\n",
       "      <td>b742</td>\n",
       "      <td>38.939633</td>\n",
       "    </tr>\n",
       "    <tr>\n",
       "      <td>2</td>\n",
       "      <td>Capomulin</td>\n",
       "      <td>g288</td>\n",
       "      <td>37.074024</td>\n",
       "    </tr>\n",
       "    <tr>\n",
       "      <td>3</td>\n",
       "      <td>Capomulin</td>\n",
       "      <td>g316</td>\n",
       "      <td>40.159220</td>\n",
       "    </tr>\n",
       "    <tr>\n",
       "      <td>4</td>\n",
       "      <td>Capomulin</td>\n",
       "      <td>i557</td>\n",
       "      <td>47.685963</td>\n",
       "    </tr>\n",
       "    <tr>\n",
       "      <td>...</td>\n",
       "      <td>...</td>\n",
       "      <td>...</td>\n",
       "      <td>...</td>\n",
       "    </tr>\n",
       "    <tr>\n",
       "      <td>58</td>\n",
       "      <td>Ramicane</td>\n",
       "      <td>q597</td>\n",
       "      <td>45.220869</td>\n",
       "    </tr>\n",
       "    <tr>\n",
       "      <td>59</td>\n",
       "      <td>Ramicane</td>\n",
       "      <td>r811</td>\n",
       "      <td>37.225650</td>\n",
       "    </tr>\n",
       "    <tr>\n",
       "      <td>60</td>\n",
       "      <td>Ramicane</td>\n",
       "      <td>s508</td>\n",
       "      <td>30.276232</td>\n",
       "    </tr>\n",
       "    <tr>\n",
       "      <td>61</td>\n",
       "      <td>Ramicane</td>\n",
       "      <td>u196</td>\n",
       "      <td>40.667713</td>\n",
       "    </tr>\n",
       "    <tr>\n",
       "      <td>62</td>\n",
       "      <td>Ramicane</td>\n",
       "      <td>z578</td>\n",
       "      <td>30.638696</td>\n",
       "    </tr>\n",
       "  </tbody>\n",
       "</table>\n",
       "<p>63 rows × 3 columns</p>\n",
       "</div>"
      ],
      "text/plain": [
       "   Drug Regimen Mouse ID  Tumor Volume (mm3)\n",
       "0     Capomulin     b128           38.982878\n",
       "1     Capomulin     b742           38.939633\n",
       "2     Capomulin     g288           37.074024\n",
       "3     Capomulin     g316           40.159220\n",
       "4     Capomulin     i557           47.685963\n",
       "..          ...      ...                 ...\n",
       "58     Ramicane     q597           45.220869\n",
       "59     Ramicane     r811           37.225650\n",
       "60     Ramicane     s508           30.276232\n",
       "61     Ramicane     u196           40.667713\n",
       "62     Ramicane     z578           30.638696\n",
       "\n",
       "[63 rows x 3 columns]"
      ]
     },
     "execution_count": 54,
     "metadata": {},
     "output_type": "execute_result"
    }
   ],
   "source": [
    "#Generate separate Box plots for 4 most promising Regimens\n",
    "tumor_df=fin_tumor_df.reset_index()\n",
    "tumor_df"
   ]
  },
  {
   "cell_type": "code",
   "execution_count": 55,
   "metadata": {},
   "outputs": [
    {
     "data": {
      "text/html": [
       "<div>\n",
       "<style scoped>\n",
       "    .dataframe tbody tr th:only-of-type {\n",
       "        vertical-align: middle;\n",
       "    }\n",
       "\n",
       "    .dataframe tbody tr th {\n",
       "        vertical-align: top;\n",
       "    }\n",
       "\n",
       "    .dataframe thead th {\n",
       "        text-align: right;\n",
       "    }\n",
       "</style>\n",
       "<table border=\"1\" class=\"dataframe\">\n",
       "  <thead>\n",
       "    <tr style=\"text-align: right;\">\n",
       "      <th></th>\n",
       "      <th>Drug Regimen</th>\n",
       "      <th>Mouse ID</th>\n",
       "      <th>Tumor Volume (mm3)</th>\n",
       "    </tr>\n",
       "  </thead>\n",
       "  <tbody>\n",
       "    <tr>\n",
       "      <td>0</td>\n",
       "      <td>Capomulin</td>\n",
       "      <td>b128</td>\n",
       "      <td>38.982878</td>\n",
       "    </tr>\n",
       "    <tr>\n",
       "      <td>1</td>\n",
       "      <td>Capomulin</td>\n",
       "      <td>b742</td>\n",
       "      <td>38.939633</td>\n",
       "    </tr>\n",
       "    <tr>\n",
       "      <td>2</td>\n",
       "      <td>Capomulin</td>\n",
       "      <td>g288</td>\n",
       "      <td>37.074024</td>\n",
       "    </tr>\n",
       "    <tr>\n",
       "      <td>3</td>\n",
       "      <td>Capomulin</td>\n",
       "      <td>g316</td>\n",
       "      <td>40.159220</td>\n",
       "    </tr>\n",
       "    <tr>\n",
       "      <td>4</td>\n",
       "      <td>Capomulin</td>\n",
       "      <td>i557</td>\n",
       "      <td>47.685963</td>\n",
       "    </tr>\n",
       "    <tr>\n",
       "      <td>5</td>\n",
       "      <td>Capomulin</td>\n",
       "      <td>i738</td>\n",
       "      <td>37.311846</td>\n",
       "    </tr>\n",
       "    <tr>\n",
       "      <td>6</td>\n",
       "      <td>Capomulin</td>\n",
       "      <td>j119</td>\n",
       "      <td>38.125164</td>\n",
       "    </tr>\n",
       "    <tr>\n",
       "      <td>7</td>\n",
       "      <td>Capomulin</td>\n",
       "      <td>l509</td>\n",
       "      <td>41.483008</td>\n",
       "    </tr>\n",
       "    <tr>\n",
       "      <td>8</td>\n",
       "      <td>Capomulin</td>\n",
       "      <td>l897</td>\n",
       "      <td>38.846876</td>\n",
       "    </tr>\n",
       "    <tr>\n",
       "      <td>9</td>\n",
       "      <td>Capomulin</td>\n",
       "      <td>m601</td>\n",
       "      <td>28.430964</td>\n",
       "    </tr>\n",
       "    <tr>\n",
       "      <td>10</td>\n",
       "      <td>Capomulin</td>\n",
       "      <td>m957</td>\n",
       "      <td>33.329098</td>\n",
       "    </tr>\n",
       "    <tr>\n",
       "      <td>11</td>\n",
       "      <td>Capomulin</td>\n",
       "      <td>r554</td>\n",
       "      <td>32.377357</td>\n",
       "    </tr>\n",
       "    <tr>\n",
       "      <td>12</td>\n",
       "      <td>Capomulin</td>\n",
       "      <td>r944</td>\n",
       "      <td>41.581521</td>\n",
       "    </tr>\n",
       "    <tr>\n",
       "      <td>13</td>\n",
       "      <td>Capomulin</td>\n",
       "      <td>s185</td>\n",
       "      <td>23.343598</td>\n",
       "    </tr>\n",
       "    <tr>\n",
       "      <td>14</td>\n",
       "      <td>Capomulin</td>\n",
       "      <td>s710</td>\n",
       "      <td>40.728578</td>\n",
       "    </tr>\n",
       "    <tr>\n",
       "      <td>15</td>\n",
       "      <td>Capomulin</td>\n",
       "      <td>t565</td>\n",
       "      <td>34.455298</td>\n",
       "    </tr>\n",
       "    <tr>\n",
       "      <td>16</td>\n",
       "      <td>Capomulin</td>\n",
       "      <td>u364</td>\n",
       "      <td>31.023923</td>\n",
       "    </tr>\n",
       "    <tr>\n",
       "      <td>17</td>\n",
       "      <td>Capomulin</td>\n",
       "      <td>v923</td>\n",
       "      <td>40.658124</td>\n",
       "    </tr>\n",
       "    <tr>\n",
       "      <td>18</td>\n",
       "      <td>Capomulin</td>\n",
       "      <td>w914</td>\n",
       "      <td>36.041047</td>\n",
       "    </tr>\n",
       "    <tr>\n",
       "      <td>19</td>\n",
       "      <td>Capomulin</td>\n",
       "      <td>x401</td>\n",
       "      <td>28.484033</td>\n",
       "    </tr>\n",
       "    <tr>\n",
       "      <td>20</td>\n",
       "      <td>Capomulin</td>\n",
       "      <td>y793</td>\n",
       "      <td>31.896238</td>\n",
       "    </tr>\n",
       "  </tbody>\n",
       "</table>\n",
       "</div>"
      ],
      "text/plain": [
       "   Drug Regimen Mouse ID  Tumor Volume (mm3)\n",
       "0     Capomulin     b128           38.982878\n",
       "1     Capomulin     b742           38.939633\n",
       "2     Capomulin     g288           37.074024\n",
       "3     Capomulin     g316           40.159220\n",
       "4     Capomulin     i557           47.685963\n",
       "5     Capomulin     i738           37.311846\n",
       "6     Capomulin     j119           38.125164\n",
       "7     Capomulin     l509           41.483008\n",
       "8     Capomulin     l897           38.846876\n",
       "9     Capomulin     m601           28.430964\n",
       "10    Capomulin     m957           33.329098\n",
       "11    Capomulin     r554           32.377357\n",
       "12    Capomulin     r944           41.581521\n",
       "13    Capomulin     s185           23.343598\n",
       "14    Capomulin     s710           40.728578\n",
       "15    Capomulin     t565           34.455298\n",
       "16    Capomulin     u364           31.023923\n",
       "17    Capomulin     v923           40.658124\n",
       "18    Capomulin     w914           36.041047\n",
       "19    Capomulin     x401           28.484033\n",
       "20    Capomulin     y793           31.896238"
      ]
     },
     "execution_count": 55,
     "metadata": {},
     "output_type": "execute_result"
    }
   ],
   "source": [
    "#df for Capomulin\n",
    "capom_tumor=tumor_df[tumor_df['Drug Regimen']=='Capomulin']\n",
    "capom_tumor"
   ]
  },
  {
   "cell_type": "code",
   "execution_count": 56,
   "metadata": {},
   "outputs": [],
   "source": [
    "#Calculate and print quartiles and possible outliers for Capomulin\n",
    "quartile=capom_tumor.quantile([.25,.5,.75])\n",
    "#quartile\n",
    "lowerq=quartile.loc[0.25]\n",
    "upperq=quartile.loc[0.75]\n",
    "iqr=upperq-lowerq"
   ]
  },
  {
   "cell_type": "code",
   "execution_count": 57,
   "metadata": {},
   "outputs": [
    {
     "name": "stdout",
     "output_type": "stream",
     "text": [
      "Capomulin\n",
      "The lower quartile is: Tumor Volume (mm3)    32.377357\n",
      "Name: 0.25, dtype: float64\n",
      "The upper quartile is: Tumor Volume (mm3)    40.15922\n",
      "Name: 0.75, dtype: float64\n",
      "The interquartile range: Tumor Volume (mm3)    7.781863\n",
      "dtype: float64\n",
      "The the median of Tumor Volume is: Tumor Volume (mm3)    37.311846\n",
      "Name: 0.5, dtype: float64 \n",
      "Values below Tumor Volume (mm3)    20.704562\n",
      "dtype: float64 could be outliers.\n",
      "Values above Tumor Volume (mm3)    51.832015\n",
      "dtype: float64 could be outliers.\n"
     ]
    }
   ],
   "source": [
    "print(\"Capomulin\")\n",
    "print(f\"The lower quartile is: {lowerq}\")\n",
    "print(f\"The upper quartile is: {upperq}\")\n",
    "print(f\"The interquartile range: {iqr}\")\n",
    "print(f\"The the median of Tumor Volume is: {quartile.loc[0.5]} \")\n",
    "\n",
    "lower_bound = lowerq - (1.5*iqr)\n",
    "upper_bound = upperq + (1.5*iqr)\n",
    "print(f\"Values below {lower_bound} could be outliers.\")\n",
    "print(f\"Values above {upper_bound} could be outliers.\")"
   ]
  },
  {
   "cell_type": "code",
   "execution_count": 58,
   "metadata": {},
   "outputs": [
    {
     "data": {
      "image/png": "[encoded data removed]",
      "text/plain": [
       "<Figure size 432x288 with 1 Axes>"
      ]
     },
     "metadata": {
      "needs_background": "light"
     },
     "output_type": "display_data"
    }
   ],
   "source": [
    "#Box plot for Capomulin\n",
    "\n",
    "capom_bp=capom_tumor['Tumor Volume (mm3)']\n",
    "#red_square=dict(markerfacecolor='r',marker='s')\n",
    "fig1,ax1=plt.subplots()\n",
    "ax1.set_title('Tumor Volumes Capomulin')\n",
    "ax1.set_ylabel('Volume(mm3)')\n",
    "ax1.boxplot(capom_bp)\n",
    "plt.show()"
   ]
  },
  {
   "cell_type": "code",
   "execution_count": 59,
   "metadata": {},
   "outputs": [
    {
     "data": {
      "text/html": [
       "<div>\n",
       "<style scoped>\n",
       "    .dataframe tbody tr th:only-of-type {\n",
       "        vertical-align: middle;\n",
       "    }\n",
       "\n",
       "    .dataframe tbody tr th {\n",
       "        vertical-align: top;\n",
       "    }\n",
       "\n",
       "    .dataframe thead th {\n",
       "        text-align: right;\n",
       "    }\n",
       "</style>\n",
       "<table border=\"1\" class=\"dataframe\">\n",
       "  <thead>\n",
       "    <tr style=\"text-align: right;\">\n",
       "      <th></th>\n",
       "      <th>Drug Regimen</th>\n",
       "      <th>Mouse ID</th>\n",
       "      <th>Tumor Volume (mm3)</th>\n",
       "    </tr>\n",
       "  </thead>\n",
       "  <tbody>\n",
       "    <tr>\n",
       "      <td>43</td>\n",
       "      <td>Ramicane</td>\n",
       "      <td>a411</td>\n",
       "      <td>38.407618</td>\n",
       "    </tr>\n",
       "    <tr>\n",
       "      <td>44</td>\n",
       "      <td>Ramicane</td>\n",
       "      <td>a444</td>\n",
       "      <td>43.047543</td>\n",
       "    </tr>\n",
       "    <tr>\n",
       "      <td>45</td>\n",
       "      <td>Ramicane</td>\n",
       "      <td>a520</td>\n",
       "      <td>38.810366</td>\n",
       "    </tr>\n",
       "    <tr>\n",
       "      <td>46</td>\n",
       "      <td>Ramicane</td>\n",
       "      <td>a644</td>\n",
       "      <td>32.978522</td>\n",
       "    </tr>\n",
       "    <tr>\n",
       "      <td>47</td>\n",
       "      <td>Ramicane</td>\n",
       "      <td>c758</td>\n",
       "      <td>33.397653</td>\n",
       "    </tr>\n",
       "    <tr>\n",
       "      <td>48</td>\n",
       "      <td>Ramicane</td>\n",
       "      <td>d251</td>\n",
       "      <td>37.311236</td>\n",
       "    </tr>\n",
       "    <tr>\n",
       "      <td>49</td>\n",
       "      <td>Ramicane</td>\n",
       "      <td>e662</td>\n",
       "      <td>40.659006</td>\n",
       "    </tr>\n",
       "    <tr>\n",
       "      <td>50</td>\n",
       "      <td>Ramicane</td>\n",
       "      <td>g791</td>\n",
       "      <td>29.128472</td>\n",
       "    </tr>\n",
       "    <tr>\n",
       "      <td>51</td>\n",
       "      <td>Ramicane</td>\n",
       "      <td>i177</td>\n",
       "      <td>33.562402</td>\n",
       "    </tr>\n",
       "    <tr>\n",
       "      <td>52</td>\n",
       "      <td>Ramicane</td>\n",
       "      <td>i334</td>\n",
       "      <td>36.374510</td>\n",
       "    </tr>\n",
       "    <tr>\n",
       "      <td>53</td>\n",
       "      <td>Ramicane</td>\n",
       "      <td>j913</td>\n",
       "      <td>31.560470</td>\n",
       "    </tr>\n",
       "    <tr>\n",
       "      <td>54</td>\n",
       "      <td>Ramicane</td>\n",
       "      <td>j989</td>\n",
       "      <td>36.134852</td>\n",
       "    </tr>\n",
       "    <tr>\n",
       "      <td>55</td>\n",
       "      <td>Ramicane</td>\n",
       "      <td>k403</td>\n",
       "      <td>22.050126</td>\n",
       "    </tr>\n",
       "    <tr>\n",
       "      <td>56</td>\n",
       "      <td>Ramicane</td>\n",
       "      <td>m546</td>\n",
       "      <td>30.564625</td>\n",
       "    </tr>\n",
       "    <tr>\n",
       "      <td>57</td>\n",
       "      <td>Ramicane</td>\n",
       "      <td>n364</td>\n",
       "      <td>31.095335</td>\n",
       "    </tr>\n",
       "    <tr>\n",
       "      <td>58</td>\n",
       "      <td>Ramicane</td>\n",
       "      <td>q597</td>\n",
       "      <td>45.220869</td>\n",
       "    </tr>\n",
       "    <tr>\n",
       "      <td>59</td>\n",
       "      <td>Ramicane</td>\n",
       "      <td>r811</td>\n",
       "      <td>37.225650</td>\n",
       "    </tr>\n",
       "    <tr>\n",
       "      <td>60</td>\n",
       "      <td>Ramicane</td>\n",
       "      <td>s508</td>\n",
       "      <td>30.276232</td>\n",
       "    </tr>\n",
       "    <tr>\n",
       "      <td>61</td>\n",
       "      <td>Ramicane</td>\n",
       "      <td>u196</td>\n",
       "      <td>40.667713</td>\n",
       "    </tr>\n",
       "    <tr>\n",
       "      <td>62</td>\n",
       "      <td>Ramicane</td>\n",
       "      <td>z578</td>\n",
       "      <td>30.638696</td>\n",
       "    </tr>\n",
       "  </tbody>\n",
       "</table>\n",
       "</div>"
      ],
      "text/plain": [
       "   Drug Regimen Mouse ID  Tumor Volume (mm3)\n",
       "43     Ramicane     a411           38.407618\n",
       "44     Ramicane     a444           43.047543\n",
       "45     Ramicane     a520           38.810366\n",
       "46     Ramicane     a644           32.978522\n",
       "47     Ramicane     c758           33.397653\n",
       "48     Ramicane     d251           37.311236\n",
       "49     Ramicane     e662           40.659006\n",
       "50     Ramicane     g791           29.128472\n",
       "51     Ramicane     i177           33.562402\n",
       "52     Ramicane     i334           36.374510\n",
       "53     Ramicane     j913           31.560470\n",
       "54     Ramicane     j989           36.134852\n",
       "55     Ramicane     k403           22.050126\n",
       "56     Ramicane     m546           30.564625\n",
       "57     Ramicane     n364           31.095335\n",
       "58     Ramicane     q597           45.220869\n",
       "59     Ramicane     r811           37.225650\n",
       "60     Ramicane     s508           30.276232\n",
       "61     Ramicane     u196           40.667713\n",
       "62     Ramicane     z578           30.638696"
      ]
     },
     "execution_count": 59,
     "metadata": {},
     "output_type": "execute_result"
    }
   ],
   "source": [
    "#df for Ramicane\n",
    "ram_tumor=tumor_df[tumor_df['Drug Regimen']=='Ramicane']\n",
    "ram_tumor"
   ]
  },
  {
   "cell_type": "code",
   "execution_count": 60,
   "metadata": {},
   "outputs": [],
   "source": [
    "#Calculate and print quartiles and possible outliers for Ramicane\n",
    "quartile=ram_tumor.quantile([.25,.5,.75])\n",
    "#quartile\n",
    "lowerq=quartile.loc[0.25]\n",
    "upperq=quartile.loc[0.75]\n",
    "iqr=upperq-lowerq"
   ]
  },
  {
   "cell_type": "code",
   "execution_count": 61,
   "metadata": {},
   "outputs": [
    {
     "name": "stdout",
     "output_type": "stream",
     "text": [
      "Ramicane\n",
      "The lower quartile is: Tumor Volume (mm3)    30.981175\n",
      "Name: 0.25, dtype: float64\n",
      "The upper quartile is: Tumor Volume (mm3)    38.508305\n",
      "Name: 0.75, dtype: float64\n",
      "The interquartile range: Tumor Volume (mm3)    7.52713\n",
      "dtype: float64\n",
      "The the median of Tumor Volume is: Tumor Volume (mm3)    34.848627\n",
      "Name: 0.5, dtype: float64 \n",
      "Values below Tumor Volume (mm3)    19.69048\n",
      "dtype: float64 could be outliers.\n",
      "Values above Tumor Volume (mm3)    49.799\n",
      "dtype: float64 could be outliers.\n"
     ]
    }
   ],
   "source": [
    "print(\"Ramicane\")\n",
    "print(f\"The lower quartile is: {lowerq}\")\n",
    "print(f\"The upper quartile is: {upperq}\")\n",
    "print(f\"The interquartile range: {iqr}\")\n",
    "print(f\"The the median of Tumor Volume is: {quartile.loc[0.5]} \")\n",
    "\n",
    "lower_bound = lowerq - (1.5*iqr)\n",
    "upper_bound = upperq + (1.5*iqr)\n",
    "print(f\"Values below {lower_bound} could be outliers.\")\n",
    "print(f\"Values above {upper_bound} could be outliers.\")"
   ]
  },
  {
   "cell_type": "code",
   "execution_count": 62,
   "metadata": {},
   "outputs": [
    {
     "data": {
      "image/png": "[encoded data removed]",
      "text/plain": [
       "<Figure size 432x288 with 1 Axes>"
      ]
     },
     "metadata": {
      "needs_background": "light"
     },
     "output_type": "display_data"
    }
   ],
   "source": [
    "#Box plot for Ramicane\n",
    "ram_bp=ram_tumor['Tumor Volume (mm3)']\n",
    "fig1,ax1=plt.subplots()\n",
    "ax1.set_title('Tumor Volumes Ramicane')\n",
    "ax1.set_ylabel('Volume(mm3)')\n",
    "ax1.boxplot(ram_bp)\n",
    "plt.show()"
   ]
  },
  {
   "cell_type": "code",
   "execution_count": 63,
   "metadata": {},
   "outputs": [
    {
     "data": {
      "text/html": [
       "<div>\n",
       "<style scoped>\n",
       "    .dataframe tbody tr th:only-of-type {\n",
       "        vertical-align: middle;\n",
       "    }\n",
       "\n",
       "    .dataframe tbody tr th {\n",
       "        vertical-align: top;\n",
       "    }\n",
       "\n",
       "    .dataframe thead th {\n",
       "        text-align: right;\n",
       "    }\n",
       "</style>\n",
       "<table border=\"1\" class=\"dataframe\">\n",
       "  <thead>\n",
       "    <tr style=\"text-align: right;\">\n",
       "      <th></th>\n",
       "      <th>Drug Regimen</th>\n",
       "      <th>Mouse ID</th>\n",
       "      <th>Tumor Volume (mm3)</th>\n",
       "    </tr>\n",
       "  </thead>\n",
       "  <tbody>\n",
       "    <tr>\n",
       "      <td>21</td>\n",
       "      <td>Ceftamin</td>\n",
       "      <td>a275</td>\n",
       "      <td>62.999356</td>\n",
       "    </tr>\n",
       "    <tr>\n",
       "      <td>22</td>\n",
       "      <td>Ceftamin</td>\n",
       "      <td>j296</td>\n",
       "      <td>61.849023</td>\n",
       "    </tr>\n",
       "    <tr>\n",
       "      <td>23</td>\n",
       "      <td>Ceftamin</td>\n",
       "      <td>k210</td>\n",
       "      <td>68.923185</td>\n",
       "    </tr>\n",
       "    <tr>\n",
       "      <td>24</td>\n",
       "      <td>Ceftamin</td>\n",
       "      <td>l471</td>\n",
       "      <td>67.748662</td>\n",
       "    </tr>\n",
       "    <tr>\n",
       "      <td>25</td>\n",
       "      <td>Ceftamin</td>\n",
       "      <td>l661</td>\n",
       "      <td>59.851956</td>\n",
       "    </tr>\n",
       "    <tr>\n",
       "      <td>26</td>\n",
       "      <td>Ceftamin</td>\n",
       "      <td>l733</td>\n",
       "      <td>64.299830</td>\n",
       "    </tr>\n",
       "    <tr>\n",
       "      <td>27</td>\n",
       "      <td>Ceftamin</td>\n",
       "      <td>o287</td>\n",
       "      <td>59.741901</td>\n",
       "    </tr>\n",
       "    <tr>\n",
       "      <td>28</td>\n",
       "      <td>Ceftamin</td>\n",
       "      <td>p438</td>\n",
       "      <td>61.433892</td>\n",
       "    </tr>\n",
       "    <tr>\n",
       "      <td>29</td>\n",
       "      <td>Ceftamin</td>\n",
       "      <td>w151</td>\n",
       "      <td>67.527482</td>\n",
       "    </tr>\n",
       "    <tr>\n",
       "      <td>30</td>\n",
       "      <td>Ceftamin</td>\n",
       "      <td>x581</td>\n",
       "      <td>64.634949</td>\n",
       "    </tr>\n",
       "    <tr>\n",
       "      <td>31</td>\n",
       "      <td>Ceftamin</td>\n",
       "      <td>x822</td>\n",
       "      <td>61.386660</td>\n",
       "    </tr>\n",
       "    <tr>\n",
       "      <td>32</td>\n",
       "      <td>Ceftamin</td>\n",
       "      <td>y769</td>\n",
       "      <td>68.594745</td>\n",
       "    </tr>\n",
       "    <tr>\n",
       "      <td>33</td>\n",
       "      <td>Ceftamin</td>\n",
       "      <td>y865</td>\n",
       "      <td>64.729837</td>\n",
       "    </tr>\n",
       "  </tbody>\n",
       "</table>\n",
       "</div>"
      ],
      "text/plain": [
       "   Drug Regimen Mouse ID  Tumor Volume (mm3)\n",
       "21     Ceftamin     a275           62.999356\n",
       "22     Ceftamin     j296           61.849023\n",
       "23     Ceftamin     k210           68.923185\n",
       "24     Ceftamin     l471           67.748662\n",
       "25     Ceftamin     l661           59.851956\n",
       "26     Ceftamin     l733           64.299830\n",
       "27     Ceftamin     o287           59.741901\n",
       "28     Ceftamin     p438           61.433892\n",
       "29     Ceftamin     w151           67.527482\n",
       "30     Ceftamin     x581           64.634949\n",
       "31     Ceftamin     x822           61.386660\n",
       "32     Ceftamin     y769           68.594745\n",
       "33     Ceftamin     y865           64.729837"
      ]
     },
     "execution_count": 63,
     "metadata": {},
     "output_type": "execute_result"
    }
   ],
   "source": [
    "#df for Ceftamin\n",
    "cef_tumor=tumor_df[tumor_df['Drug Regimen']=='Ceftamin']\n",
    "cef_tumor"
   ]
  },
  {
   "cell_type": "code",
   "execution_count": 64,
   "metadata": {},
   "outputs": [],
   "source": [
    "#Calculate and print quartiles and possible outliers for Ceftamin\n",
    "quartile=cef_tumor.quantile([.25,.5,.75])\n",
    "#quartile\n",
    "lowerq=quartile.loc[0.25]\n",
    "upperq=quartile.loc[0.75]\n",
    "iqr=upperq-lowerq"
   ]
  },
  {
   "cell_type": "code",
   "execution_count": 65,
   "metadata": {},
   "outputs": [
    {
     "name": "stdout",
     "output_type": "stream",
     "text": [
      "Ceftamin\n",
      "The lower quartile is: Tumor Volume (mm3)    61.433892\n",
      "Name: 0.25, dtype: float64\n",
      "The upper quartile is: Tumor Volume (mm3)    67.527482\n",
      "Name: 0.75, dtype: float64\n",
      "The interquartile range: Tumor Volume (mm3)    6.09359\n",
      "dtype: float64\n",
      "The the median of Tumor Volume is: Tumor Volume (mm3)    64.29983\n",
      "Name: 0.5, dtype: float64 \n",
      "Values below Tumor Volume (mm3)    52.293507\n",
      "dtype: float64 could be outliers.\n",
      "Values above Tumor Volume (mm3)    76.667868\n",
      "dtype: float64 could be outliers.\n"
     ]
    }
   ],
   "source": [
    "print(\"Ceftamin\")\n",
    "print(f\"The lower quartile is: {lowerq}\")\n",
    "print(f\"The upper quartile is: {upperq}\")\n",
    "print(f\"The interquartile range: {iqr}\")\n",
    "print(f\"The the median of Tumor Volume is: {quartile.loc[0.5]} \")\n",
    "\n",
    "lower_bound = lowerq - (1.5*iqr)\n",
    "upper_bound = upperq + (1.5*iqr)\n",
    "print(f\"Values below {lower_bound} could be outliers.\")\n",
    "print(f\"Values above {upper_bound} could be outliers.\")"
   ]
  },
  {
   "cell_type": "code",
   "execution_count": 66,
   "metadata": {},
   "outputs": [
    {
     "data": {
      "image/png": "[encoded data removed]",
      "text/plain": [
       "<Figure size 432x288 with 1 Axes>"
      ]
     },
     "metadata": {
      "needs_background": "light"
     },
     "output_type": "display_data"
    }
   ],
   "source": [
    "#Box plot for Ceftamin\n",
    "cef_bp=ram_tumor['Tumor Volume (mm3)']\n",
    "fig1,ax1=plt.subplots()\n",
    "ax1.set_title('Tumor Volumes Ceftamin')\n",
    "ax1.set_ylabel('Volume(mm3)')\n",
    "ax1.boxplot(cef_bp)\n",
    "plt.show()"
   ]
  },
  {
   "cell_type": "code",
   "execution_count": 67,
   "metadata": {},
   "outputs": [
    {
     "data": {
      "text/html": [
       "<div>\n",
       "<style scoped>\n",
       "    .dataframe tbody tr th:only-of-type {\n",
       "        vertical-align: middle;\n",
       "    }\n",
       "\n",
       "    .dataframe tbody tr th {\n",
       "        vertical-align: top;\n",
       "    }\n",
       "\n",
       "    .dataframe thead th {\n",
       "        text-align: right;\n",
       "    }\n",
       "</style>\n",
       "<table border=\"1\" class=\"dataframe\">\n",
       "  <thead>\n",
       "    <tr style=\"text-align: right;\">\n",
       "      <th></th>\n",
       "      <th>Drug Regimen</th>\n",
       "      <th>Mouse ID</th>\n",
       "      <th>Tumor Volume (mm3)</th>\n",
       "    </tr>\n",
       "  </thead>\n",
       "  <tbody>\n",
       "    <tr>\n",
       "      <td>34</td>\n",
       "      <td>Infubinol</td>\n",
       "      <td>a203</td>\n",
       "      <td>67.973419</td>\n",
       "    </tr>\n",
       "    <tr>\n",
       "      <td>35</td>\n",
       "      <td>Infubinol</td>\n",
       "      <td>a251</td>\n",
       "      <td>65.525743</td>\n",
       "    </tr>\n",
       "    <tr>\n",
       "      <td>36</td>\n",
       "      <td>Infubinol</td>\n",
       "      <td>a685</td>\n",
       "      <td>66.083066</td>\n",
       "    </tr>\n",
       "    <tr>\n",
       "      <td>37</td>\n",
       "      <td>Infubinol</td>\n",
       "      <td>c139</td>\n",
       "      <td>72.226731</td>\n",
       "    </tr>\n",
       "    <tr>\n",
       "      <td>38</td>\n",
       "      <td>Infubinol</td>\n",
       "      <td>e476</td>\n",
       "      <td>62.435404</td>\n",
       "    </tr>\n",
       "    <tr>\n",
       "      <td>39</td>\n",
       "      <td>Infubinol</td>\n",
       "      <td>f345</td>\n",
       "      <td>60.918767</td>\n",
       "    </tr>\n",
       "    <tr>\n",
       "      <td>40</td>\n",
       "      <td>Infubinol</td>\n",
       "      <td>k483</td>\n",
       "      <td>66.196912</td>\n",
       "    </tr>\n",
       "    <tr>\n",
       "      <td>41</td>\n",
       "      <td>Infubinol</td>\n",
       "      <td>y163</td>\n",
       "      <td>67.685569</td>\n",
       "    </tr>\n",
       "    <tr>\n",
       "      <td>42</td>\n",
       "      <td>Infubinol</td>\n",
       "      <td>z581</td>\n",
       "      <td>62.754451</td>\n",
       "    </tr>\n",
       "  </tbody>\n",
       "</table>\n",
       "</div>"
      ],
      "text/plain": [
       "   Drug Regimen Mouse ID  Tumor Volume (mm3)\n",
       "34    Infubinol     a203           67.973419\n",
       "35    Infubinol     a251           65.525743\n",
       "36    Infubinol     a685           66.083066\n",
       "37    Infubinol     c139           72.226731\n",
       "38    Infubinol     e476           62.435404\n",
       "39    Infubinol     f345           60.918767\n",
       "40    Infubinol     k483           66.196912\n",
       "41    Infubinol     y163           67.685569\n",
       "42    Infubinol     z581           62.754451"
      ]
     },
     "execution_count": 67,
     "metadata": {},
     "output_type": "execute_result"
    }
   ],
   "source": [
    "#df for Infubinol\n",
    "inf_tumor=tumor_df[tumor_df['Drug Regimen']=='Infubinol']\n",
    "inf_tumor"
   ]
  },
  {
   "cell_type": "code",
   "execution_count": 68,
   "metadata": {},
   "outputs": [],
   "source": [
    "#Calculate and print quartiles and possible outliers for Infubinol\n",
    "quartile=inf_tumor.quantile([.25,.5,.75])\n",
    "#quartile\n",
    "lowerq=quartile.loc[0.25]\n",
    "upperq=quartile.loc[0.75]\n",
    "iqr=upperq-lowerq"
   ]
  },
  {
   "cell_type": "code",
   "execution_count": null,
   "metadata": {},
   "outputs": [],
   "source": []
  },
  {
   "cell_type": "code",
   "execution_count": 69,
   "metadata": {},
   "outputs": [
    {
     "name": "stdout",
     "output_type": "stream",
     "text": [
      "Infubinol\n",
      "The lower quartile is: Tumor Volume (mm3)    62.754451\n",
      "Name: 0.25, dtype: float64\n",
      "The upper quartile is: Tumor Volume (mm3)    67.685569\n",
      "Name: 0.75, dtype: float64\n",
      "The interquartile range: Tumor Volume (mm3)    4.931117\n",
      "dtype: float64\n",
      "The the median of Tumor Volume is: Tumor Volume (mm3)    66.083066\n",
      "Name: 0.5, dtype: float64 \n",
      "Values below Tumor Volume (mm3)    55.357776\n",
      "dtype: float64 could be outliers.\n",
      "Values above Tumor Volume (mm3)    75.082244\n",
      "dtype: float64 could be outliers.\n"
     ]
    }
   ],
   "source": [
    "print(\"Infubinol\")\n",
    "print(f\"The lower quartile is: {lowerq}\")\n",
    "print(f\"The upper quartile is: {upperq}\")\n",
    "print(f\"The interquartile range: {iqr}\")\n",
    "print(f\"The the median of Tumor Volume is: {quartile.loc[0.5]} \")\n",
    "\n",
    "lower_bound = lowerq - (1.5*iqr)\n",
    "upper_bound = upperq + (1.5*iqr)\n",
    "print(f\"Values below {lower_bound} could be outliers.\")\n",
    "print(f\"Values above {upper_bound} could be outliers.\")"
   ]
  },
  {
   "cell_type": "code",
   "execution_count": 70,
   "metadata": {},
   "outputs": [
    {
     "data": {
      "image/png": "[encoded data removed]",
      "text/plain": [
       "<Figure size 432x288 with 1 Axes>"
      ]
     },
     "metadata": {
      "needs_background": "light"
     },
     "output_type": "display_data"
    }
   ],
   "source": [
    "#Box plot for Infubinol\n",
    "inf_bp=inf_tumor['Tumor Volume (mm3)']\n",
    "fig1,ax1=plt.subplots()\n",
    "ax1.set_title('Tumor Volumes Infubinol')\n",
    "ax1.set_ylabel('Volume(mm3)')\n",
    "ax1.boxplot(inf_bp)\n",
    "plt.show()"
   ]
  },
  {
   "cell_type": "code",
   "execution_count": null,
   "metadata": {},
   "outputs": [],
   "source": []
  },
  {
   "cell_type": "code",
   "execution_count": 105,
   "metadata": {},
   "outputs": [
    {
     "data": {
      "image/png": "[encoded data removed]",
      "text/plain": [
       "<Figure size 432x288 with 1 Axes>"
      ]
     },
     "metadata": {
      "needs_background": "light"
     },
     "output_type": "display_data"
    }
   ],
   "source": [
    "data=[capom_bp,ram_bp,cef_bp,inf_bp]\n",
    "fig2,ax2=plt.subplots()\n",
    "ax2.set_title('Tumor Volume Compare')\n",
    "ax2.set_ylabel('Volume (mm3)')\n",
    "ax2.boxplot(data,showfliers=True,labels=['Capomulin','bp','Cef','Infubitol'])\n",
    "plt.show()"
   ]
  },
  {
   "cell_type": "code",
   "execution_count": null,
   "metadata": {},
   "outputs": [],
   "source": []
  },
  {
   "cell_type": "markdown",
   "metadata": {},
   "source": [
    "## Line and scatter plots"
   ]
  },
  {
   "cell_type": "code",
   "execution_count": 72,
   "metadata": {},
   "outputs": [],
   "source": [
    "# Generate a line plot of time point versus tumor volume for a mouse treated with Capomulin"
   ]
  },
  {
   "cell_type": "code",
   "execution_count": 73,
   "metadata": {},
   "outputs": [
    {
     "data": {
      "text/html": [
       "<div>\n",
       "<style scoped>\n",
       "    .dataframe tbody tr th:only-of-type {\n",
       "        vertical-align: middle;\n",
       "    }\n",
       "\n",
       "    .dataframe tbody tr th {\n",
       "        vertical-align: top;\n",
       "    }\n",
       "\n",
       "    .dataframe thead th {\n",
       "        text-align: right;\n",
       "    }\n",
       "</style>\n",
       "<table border=\"1\" class=\"dataframe\">\n",
       "  <thead>\n",
       "    <tr style=\"text-align: right;\">\n",
       "      <th></th>\n",
       "      <th>Mouse ID</th>\n",
       "      <th>Drug Regimen</th>\n",
       "      <th>Sex</th>\n",
       "      <th>Age_months</th>\n",
       "      <th>Weight (g)</th>\n",
       "      <th>Timepoint</th>\n",
       "      <th>Tumor Volume (mm3)</th>\n",
       "      <th>Metastatic Sites</th>\n",
       "    </tr>\n",
       "  </thead>\n",
       "  <tbody>\n",
       "    <tr>\n",
       "      <td>10</td>\n",
       "      <td>s185</td>\n",
       "      <td>Capomulin</td>\n",
       "      <td>Female</td>\n",
       "      <td>3</td>\n",
       "      <td>17</td>\n",
       "      <td>0</td>\n",
       "      <td>45.000000</td>\n",
       "      <td>0</td>\n",
       "    </tr>\n",
       "    <tr>\n",
       "      <td>11</td>\n",
       "      <td>s185</td>\n",
       "      <td>Capomulin</td>\n",
       "      <td>Female</td>\n",
       "      <td>3</td>\n",
       "      <td>17</td>\n",
       "      <td>5</td>\n",
       "      <td>43.878496</td>\n",
       "      <td>0</td>\n",
       "    </tr>\n",
       "    <tr>\n",
       "      <td>12</td>\n",
       "      <td>s185</td>\n",
       "      <td>Capomulin</td>\n",
       "      <td>Female</td>\n",
       "      <td>3</td>\n",
       "      <td>17</td>\n",
       "      <td>10</td>\n",
       "      <td>37.614948</td>\n",
       "      <td>0</td>\n",
       "    </tr>\n",
       "    <tr>\n",
       "      <td>13</td>\n",
       "      <td>s185</td>\n",
       "      <td>Capomulin</td>\n",
       "      <td>Female</td>\n",
       "      <td>3</td>\n",
       "      <td>17</td>\n",
       "      <td>15</td>\n",
       "      <td>38.177232</td>\n",
       "      <td>0</td>\n",
       "    </tr>\n",
       "    <tr>\n",
       "      <td>14</td>\n",
       "      <td>s185</td>\n",
       "      <td>Capomulin</td>\n",
       "      <td>Female</td>\n",
       "      <td>3</td>\n",
       "      <td>17</td>\n",
       "      <td>20</td>\n",
       "      <td>36.866876</td>\n",
       "      <td>0</td>\n",
       "    </tr>\n",
       "    <tr>\n",
       "      <td>...</td>\n",
       "      <td>...</td>\n",
       "      <td>...</td>\n",
       "      <td>...</td>\n",
       "      <td>...</td>\n",
       "      <td>...</td>\n",
       "      <td>...</td>\n",
       "      <td>...</td>\n",
       "      <td>...</td>\n",
       "    </tr>\n",
       "    <tr>\n",
       "      <td>440</td>\n",
       "      <td>i557</td>\n",
       "      <td>Capomulin</td>\n",
       "      <td>Female</td>\n",
       "      <td>1</td>\n",
       "      <td>24</td>\n",
       "      <td>45</td>\n",
       "      <td>47.685963</td>\n",
       "      <td>1</td>\n",
       "    </tr>\n",
       "    <tr>\n",
       "      <td>1452</td>\n",
       "      <td>r157</td>\n",
       "      <td>Capomulin</td>\n",
       "      <td>Male</td>\n",
       "      <td>22</td>\n",
       "      <td>25</td>\n",
       "      <td>0</td>\n",
       "      <td>45.000000</td>\n",
       "      <td>0</td>\n",
       "    </tr>\n",
       "    <tr>\n",
       "      <td>1453</td>\n",
       "      <td>r157</td>\n",
       "      <td>Capomulin</td>\n",
       "      <td>Male</td>\n",
       "      <td>22</td>\n",
       "      <td>25</td>\n",
       "      <td>5</td>\n",
       "      <td>45.597064</td>\n",
       "      <td>0</td>\n",
       "    </tr>\n",
       "    <tr>\n",
       "      <td>1454</td>\n",
       "      <td>r157</td>\n",
       "      <td>Capomulin</td>\n",
       "      <td>Male</td>\n",
       "      <td>22</td>\n",
       "      <td>25</td>\n",
       "      <td>10</td>\n",
       "      <td>46.059608</td>\n",
       "      <td>0</td>\n",
       "    </tr>\n",
       "    <tr>\n",
       "      <td>1455</td>\n",
       "      <td>r157</td>\n",
       "      <td>Capomulin</td>\n",
       "      <td>Male</td>\n",
       "      <td>22</td>\n",
       "      <td>25</td>\n",
       "      <td>15</td>\n",
       "      <td>46.539206</td>\n",
       "      <td>0</td>\n",
       "    </tr>\n",
       "  </tbody>\n",
       "</table>\n",
       "<p>230 rows × 8 columns</p>\n",
       "</div>"
      ],
      "text/plain": [
       "     Mouse ID Drug Regimen     Sex  Age_months  Weight (g)  Timepoint  \\\n",
       "10       s185    Capomulin  Female           3          17          0   \n",
       "11       s185    Capomulin  Female           3          17          5   \n",
       "12       s185    Capomulin  Female           3          17         10   \n",
       "13       s185    Capomulin  Female           3          17         15   \n",
       "14       s185    Capomulin  Female           3          17         20   \n",
       "...       ...          ...     ...         ...         ...        ...   \n",
       "440      i557    Capomulin  Female           1          24         45   \n",
       "1452     r157    Capomulin    Male          22          25          0   \n",
       "1453     r157    Capomulin    Male          22          25          5   \n",
       "1454     r157    Capomulin    Male          22          25         10   \n",
       "1455     r157    Capomulin    Male          22          25         15   \n",
       "\n",
       "      Tumor Volume (mm3)  Metastatic Sites  \n",
       "10             45.000000                 0  \n",
       "11             43.878496                 0  \n",
       "12             37.614948                 0  \n",
       "13             38.177232                 0  \n",
       "14             36.866876                 0  \n",
       "...                  ...               ...  \n",
       "440            47.685963                 1  \n",
       "1452           45.000000                 0  \n",
       "1453           45.597064                 0  \n",
       "1454           46.059608                 0  \n",
       "1455           46.539206                 0  \n",
       "\n",
       "[230 rows x 8 columns]"
      ]
     },
     "execution_count": 73,
     "metadata": {},
     "output_type": "execute_result"
    }
   ],
   "source": [
    "capom_df=df.loc[df['Drug Regimen']=='Capomulin']\n",
    "capom_df"
   ]
  },
  {
   "cell_type": "code",
   "execution_count": 74,
   "metadata": {},
   "outputs": [],
   "source": [
    "list2=capom_df['Mouse ID'].tolist()\n",
    "#list2"
   ]
  },
  {
   "cell_type": "code",
   "execution_count": 75,
   "metadata": {},
   "outputs": [],
   "source": [
    "rand_id=random.choice(list2)\n",
    "#rand_id"
   ]
  },
  {
   "cell_type": "code",
   "execution_count": 76,
   "metadata": {},
   "outputs": [],
   "source": [
    "capom_fin=capom_df.loc[capom_df['Mouse ID']==rand_id]"
   ]
  },
  {
   "cell_type": "code",
   "execution_count": 77,
   "metadata": {},
   "outputs": [],
   "source": [
    "#capom_fin"
   ]
  },
  {
   "cell_type": "code",
   "execution_count": 78,
   "metadata": {},
   "outputs": [],
   "source": [
    "capom_fin_plot=capom_fin[['Timepoint','Tumor Volume (mm3)']]\n",
    "capom_fin_plot=capom_fin_plot.set_index('Timepoint')\n",
    "#capom_fin_plot"
   ]
  },
  {
   "cell_type": "code",
   "execution_count": 79,
   "metadata": {},
   "outputs": [
    {
     "data": {
      "text/plain": [
       "Text(0.5, 1.0, 'Time point versus tumor volume')"
      ]
     },
     "execution_count": 79,
     "metadata": {},
     "output_type": "execute_result"
    },
    {
     "data": {
      "image/png": "[encoded data removed]",
      "text/plain": [
       "<Figure size 432x288 with 1 Axes>"
      ]
     },
     "metadata": {
      "needs_background": "light"
     },
     "output_type": "display_data"
    }
   ],
   "source": [
    "capom_fin_plot.plot()\n",
    "plt.ylabel('Volume (mm3)')\n",
    "plt.title('Time point versus tumor volume')"
   ]
  },
  {
   "cell_type": "code",
   "execution_count": 80,
   "metadata": {},
   "outputs": [],
   "source": [
    "# Generate a scatter plot of mouse weight versus average tumor volume for the Capomulin regimen\n",
    "#capom_fin_df=capom_df.groupby('Mouse ID')\n",
    "#capom_fin_plot=capom_fin_plot.set_index('Timepoint')\n",
    "#capom_fin_df"
   ]
  },
  {
   "cell_type": "code",
   "execution_count": null,
   "metadata": {},
   "outputs": [],
   "source": []
  },
  {
   "cell_type": "code",
   "execution_count": 81,
   "metadata": {},
   "outputs": [],
   "source": [
    "capom_weight=capom_df[['Mouse ID','Weight (g)']]\n",
    "capom1=capom_weight.groupby('Mouse ID').first()\n",
    "#capom_weight=capom_weight.set_index('Weight (g)')\n",
    "#capom1"
   ]
  },
  {
   "cell_type": "code",
   "execution_count": 82,
   "metadata": {},
   "outputs": [
    {
     "data": {
      "text/html": [
       "<div>\n",
       "<style scoped>\n",
       "    .dataframe tbody tr th:only-of-type {\n",
       "        vertical-align: middle;\n",
       "    }\n",
       "\n",
       "    .dataframe tbody tr th {\n",
       "        vertical-align: top;\n",
       "    }\n",
       "\n",
       "    .dataframe thead th {\n",
       "        text-align: right;\n",
       "    }\n",
       "</style>\n",
       "<table border=\"1\" class=\"dataframe\">\n",
       "  <thead>\n",
       "    <tr style=\"text-align: right;\">\n",
       "      <th></th>\n",
       "      <th>Tumor Volume (mm3)</th>\n",
       "    </tr>\n",
       "    <tr>\n",
       "      <th>Mouse ID</th>\n",
       "      <th></th>\n",
       "    </tr>\n",
       "  </thead>\n",
       "  <tbody>\n",
       "    <tr>\n",
       "      <td>b128</td>\n",
       "      <td>41.963636</td>\n",
       "    </tr>\n",
       "    <tr>\n",
       "      <td>b742</td>\n",
       "      <td>40.083699</td>\n",
       "    </tr>\n",
       "    <tr>\n",
       "      <td>f966</td>\n",
       "      <td>36.505973</td>\n",
       "    </tr>\n",
       "    <tr>\n",
       "      <td>g288</td>\n",
       "      <td>41.990097</td>\n",
       "    </tr>\n",
       "    <tr>\n",
       "      <td>g316</td>\n",
       "      <td>44.613344</td>\n",
       "    </tr>\n",
       "    <tr>\n",
       "      <td>i557</td>\n",
       "      <td>44.805810</td>\n",
       "    </tr>\n",
       "    <tr>\n",
       "      <td>i738</td>\n",
       "      <td>39.141053</td>\n",
       "    </tr>\n",
       "    <tr>\n",
       "      <td>j119</td>\n",
       "      <td>44.465236</td>\n",
       "    </tr>\n",
       "    <tr>\n",
       "      <td>j246</td>\n",
       "      <td>43.216925</td>\n",
       "    </tr>\n",
       "    <tr>\n",
       "      <td>l509</td>\n",
       "      <td>44.434474</td>\n",
       "    </tr>\n",
       "    <tr>\n",
       "      <td>l897</td>\n",
       "      <td>42.507261</td>\n",
       "    </tr>\n",
       "    <tr>\n",
       "      <td>m601</td>\n",
       "      <td>34.847470</td>\n",
       "    </tr>\n",
       "    <tr>\n",
       "      <td>m957</td>\n",
       "      <td>39.049816</td>\n",
       "    </tr>\n",
       "    <tr>\n",
       "      <td>r157</td>\n",
       "      <td>45.798970</td>\n",
       "    </tr>\n",
       "    <tr>\n",
       "      <td>r554</td>\n",
       "      <td>36.509212</td>\n",
       "    </tr>\n",
       "    <tr>\n",
       "      <td>r944</td>\n",
       "      <td>43.367364</td>\n",
       "    </tr>\n",
       "    <tr>\n",
       "      <td>s185</td>\n",
       "      <td>34.559143</td>\n",
       "    </tr>\n",
       "    <tr>\n",
       "      <td>s710</td>\n",
       "      <td>42.803733</td>\n",
       "    </tr>\n",
       "    <tr>\n",
       "      <td>t565</td>\n",
       "      <td>39.328725</td>\n",
       "    </tr>\n",
       "    <tr>\n",
       "      <td>u364</td>\n",
       "      <td>39.887495</td>\n",
       "    </tr>\n",
       "    <tr>\n",
       "      <td>v923</td>\n",
       "      <td>41.581595</td>\n",
       "    </tr>\n",
       "    <tr>\n",
       "      <td>w150</td>\n",
       "      <td>41.384825</td>\n",
       "    </tr>\n",
       "    <tr>\n",
       "      <td>w914</td>\n",
       "      <td>41.352452</td>\n",
       "    </tr>\n",
       "    <tr>\n",
       "      <td>x401</td>\n",
       "      <td>36.182040</td>\n",
       "    </tr>\n",
       "    <tr>\n",
       "      <td>y793</td>\n",
       "      <td>38.506829</td>\n",
       "    </tr>\n",
       "  </tbody>\n",
       "</table>\n",
       "</div>"
      ],
      "text/plain": [
       "          Tumor Volume (mm3)\n",
       "Mouse ID                    \n",
       "b128               41.963636\n",
       "b742               40.083699\n",
       "f966               36.505973\n",
       "g288               41.990097\n",
       "g316               44.613344\n",
       "i557               44.805810\n",
       "i738               39.141053\n",
       "j119               44.465236\n",
       "j246               43.216925\n",
       "l509               44.434474\n",
       "l897               42.507261\n",
       "m601               34.847470\n",
       "m957               39.049816\n",
       "r157               45.798970\n",
       "r554               36.509212\n",
       "r944               43.367364\n",
       "s185               34.559143\n",
       "s710               42.803733\n",
       "t565               39.328725\n",
       "u364               39.887495\n",
       "v923               41.581595\n",
       "w150               41.384825\n",
       "w914               41.352452\n",
       "x401               36.182040\n",
       "y793               38.506829"
      ]
     },
     "execution_count": 82,
     "metadata": {},
     "output_type": "execute_result"
    }
   ],
   "source": [
    "capom_volume=capom_df[['Mouse ID','Tumor Volume (mm3)']]\n",
    "capom2=capom_volume.groupby('Mouse ID').mean()\n",
    "capom2"
   ]
  },
  {
   "cell_type": "code",
   "execution_count": 83,
   "metadata": {},
   "outputs": [
    {
     "data": {
      "text/html": [
       "<div>\n",
       "<style scoped>\n",
       "    .dataframe tbody tr th:only-of-type {\n",
       "        vertical-align: middle;\n",
       "    }\n",
       "\n",
       "    .dataframe tbody tr th {\n",
       "        vertical-align: top;\n",
       "    }\n",
       "\n",
       "    .dataframe thead th {\n",
       "        text-align: right;\n",
       "    }\n",
       "</style>\n",
       "<table border=\"1\" class=\"dataframe\">\n",
       "  <thead>\n",
       "    <tr style=\"text-align: right;\">\n",
       "      <th></th>\n",
       "      <th>Weight (g)</th>\n",
       "      <th>Tumor Volume (mm3)</th>\n",
       "    </tr>\n",
       "    <tr>\n",
       "      <th>Mouse ID</th>\n",
       "      <th></th>\n",
       "      <th></th>\n",
       "    </tr>\n",
       "  </thead>\n",
       "  <tbody>\n",
       "    <tr>\n",
       "      <td>b128</td>\n",
       "      <td>22</td>\n",
       "      <td>41.963636</td>\n",
       "    </tr>\n",
       "    <tr>\n",
       "      <td>b742</td>\n",
       "      <td>21</td>\n",
       "      <td>40.083699</td>\n",
       "    </tr>\n",
       "    <tr>\n",
       "      <td>f966</td>\n",
       "      <td>17</td>\n",
       "      <td>36.505973</td>\n",
       "    </tr>\n",
       "    <tr>\n",
       "      <td>g288</td>\n",
       "      <td>19</td>\n",
       "      <td>41.990097</td>\n",
       "    </tr>\n",
       "    <tr>\n",
       "      <td>g316</td>\n",
       "      <td>22</td>\n",
       "      <td>44.613344</td>\n",
       "    </tr>\n",
       "    <tr>\n",
       "      <td>i557</td>\n",
       "      <td>24</td>\n",
       "      <td>44.805810</td>\n",
       "    </tr>\n",
       "    <tr>\n",
       "      <td>i738</td>\n",
       "      <td>20</td>\n",
       "      <td>39.141053</td>\n",
       "    </tr>\n",
       "    <tr>\n",
       "      <td>j119</td>\n",
       "      <td>23</td>\n",
       "      <td>44.465236</td>\n",
       "    </tr>\n",
       "    <tr>\n",
       "      <td>j246</td>\n",
       "      <td>21</td>\n",
       "      <td>43.216925</td>\n",
       "    </tr>\n",
       "    <tr>\n",
       "      <td>l509</td>\n",
       "      <td>21</td>\n",
       "      <td>44.434474</td>\n",
       "    </tr>\n",
       "    <tr>\n",
       "      <td>l897</td>\n",
       "      <td>19</td>\n",
       "      <td>42.507261</td>\n",
       "    </tr>\n",
       "    <tr>\n",
       "      <td>m601</td>\n",
       "      <td>17</td>\n",
       "      <td>34.847470</td>\n",
       "    </tr>\n",
       "    <tr>\n",
       "      <td>m957</td>\n",
       "      <td>19</td>\n",
       "      <td>39.049816</td>\n",
       "    </tr>\n",
       "    <tr>\n",
       "      <td>r157</td>\n",
       "      <td>25</td>\n",
       "      <td>45.798970</td>\n",
       "    </tr>\n",
       "    <tr>\n",
       "      <td>r554</td>\n",
       "      <td>17</td>\n",
       "      <td>36.509212</td>\n",
       "    </tr>\n",
       "    <tr>\n",
       "      <td>r944</td>\n",
       "      <td>25</td>\n",
       "      <td>43.367364</td>\n",
       "    </tr>\n",
       "    <tr>\n",
       "      <td>s185</td>\n",
       "      <td>17</td>\n",
       "      <td>34.559143</td>\n",
       "    </tr>\n",
       "    <tr>\n",
       "      <td>s710</td>\n",
       "      <td>23</td>\n",
       "      <td>42.803733</td>\n",
       "    </tr>\n",
       "    <tr>\n",
       "      <td>t565</td>\n",
       "      <td>17</td>\n",
       "      <td>39.328725</td>\n",
       "    </tr>\n",
       "    <tr>\n",
       "      <td>u364</td>\n",
       "      <td>17</td>\n",
       "      <td>39.887495</td>\n",
       "    </tr>\n",
       "    <tr>\n",
       "      <td>v923</td>\n",
       "      <td>21</td>\n",
       "      <td>41.581595</td>\n",
       "    </tr>\n",
       "    <tr>\n",
       "      <td>w150</td>\n",
       "      <td>23</td>\n",
       "      <td>41.384825</td>\n",
       "    </tr>\n",
       "    <tr>\n",
       "      <td>w914</td>\n",
       "      <td>21</td>\n",
       "      <td>41.352452</td>\n",
       "    </tr>\n",
       "    <tr>\n",
       "      <td>x401</td>\n",
       "      <td>15</td>\n",
       "      <td>36.182040</td>\n",
       "    </tr>\n",
       "    <tr>\n",
       "      <td>y793</td>\n",
       "      <td>17</td>\n",
       "      <td>38.506829</td>\n",
       "    </tr>\n",
       "  </tbody>\n",
       "</table>\n",
       "</div>"
      ],
      "text/plain": [
       "          Weight (g)  Tumor Volume (mm3)\n",
       "Mouse ID                                \n",
       "b128              22           41.963636\n",
       "b742              21           40.083699\n",
       "f966              17           36.505973\n",
       "g288              19           41.990097\n",
       "g316              22           44.613344\n",
       "i557              24           44.805810\n",
       "i738              20           39.141053\n",
       "j119              23           44.465236\n",
       "j246              21           43.216925\n",
       "l509              21           44.434474\n",
       "l897              19           42.507261\n",
       "m601              17           34.847470\n",
       "m957              19           39.049816\n",
       "r157              25           45.798970\n",
       "r554              17           36.509212\n",
       "r944              25           43.367364\n",
       "s185              17           34.559143\n",
       "s710              23           42.803733\n",
       "t565              17           39.328725\n",
       "u364              17           39.887495\n",
       "v923              21           41.581595\n",
       "w150              23           41.384825\n",
       "w914              21           41.352452\n",
       "x401              15           36.182040\n",
       "y793              17           38.506829"
      ]
     },
     "execution_count": 83,
     "metadata": {},
     "output_type": "execute_result"
    }
   ],
   "source": [
    "capom_plot=pd.merge(capom1,capom2,how='left',on=['Mouse ID'])\n",
    "capom_plot"
   ]
  },
  {
   "cell_type": "code",
   "execution_count": null,
   "metadata": {},
   "outputs": [],
   "source": []
  },
  {
   "cell_type": "code",
   "execution_count": 84,
   "metadata": {},
   "outputs": [],
   "source": [
    "x_axis=capom_plot['Weight (g)']\n",
    "y_axis=capom_plot['Tumor Volume (mm3)']"
   ]
  },
  {
   "cell_type": "code",
   "execution_count": 85,
   "metadata": {},
   "outputs": [
    {
     "data": {
      "text/plain": [
       "<matplotlib.collections.PathCollection at 0x16ca84ec348>"
      ]
     },
     "execution_count": 85,
     "metadata": {},
     "output_type": "execute_result"
    },
    {
     "data": {
      "image/png": "[encoded data removed]",
      "text/plain": [
       "<Figure size 432x288 with 1 Axes>"
      ]
     },
     "metadata": {
      "needs_background": "light"
     },
     "output_type": "display_data"
    }
   ],
   "source": [
    "plt.scatter(x_axis,y_axis, marker=\"o\")"
   ]
  },
  {
   "cell_type": "code",
   "execution_count": 86,
   "metadata": {},
   "outputs": [],
   "source": [
    "# Calculate the correlation coefficient and linear regression model for mouse weight and average tumor volume for the Capomulin regimen"
   ]
  },
  {
   "cell_type": "code",
   "execution_count": 87,
   "metadata": {},
   "outputs": [
    {
     "data": {
      "text/html": [
       "<div>\n",
       "<style scoped>\n",
       "    .dataframe tbody tr th:only-of-type {\n",
       "        vertical-align: middle;\n",
       "    }\n",
       "\n",
       "    .dataframe tbody tr th {\n",
       "        vertical-align: top;\n",
       "    }\n",
       "\n",
       "    .dataframe thead th {\n",
       "        text-align: right;\n",
       "    }\n",
       "</style>\n",
       "<table border=\"1\" class=\"dataframe\">\n",
       "  <thead>\n",
       "    <tr style=\"text-align: right;\">\n",
       "      <th></th>\n",
       "      <th>Mouse ID</th>\n",
       "      <th>Drug Regimen</th>\n",
       "      <th>Sex</th>\n",
       "      <th>Age_months</th>\n",
       "      <th>Weight (g)</th>\n",
       "      <th>Timepoint</th>\n",
       "      <th>Tumor Volume (mm3)</th>\n",
       "      <th>Metastatic Sites</th>\n",
       "    </tr>\n",
       "  </thead>\n",
       "  <tbody>\n",
       "    <tr>\n",
       "      <td>10</td>\n",
       "      <td>s185</td>\n",
       "      <td>Capomulin</td>\n",
       "      <td>Female</td>\n",
       "      <td>3</td>\n",
       "      <td>17</td>\n",
       "      <td>0</td>\n",
       "      <td>45.000000</td>\n",
       "      <td>0</td>\n",
       "    </tr>\n",
       "    <tr>\n",
       "      <td>11</td>\n",
       "      <td>s185</td>\n",
       "      <td>Capomulin</td>\n",
       "      <td>Female</td>\n",
       "      <td>3</td>\n",
       "      <td>17</td>\n",
       "      <td>5</td>\n",
       "      <td>43.878496</td>\n",
       "      <td>0</td>\n",
       "    </tr>\n",
       "    <tr>\n",
       "      <td>12</td>\n",
       "      <td>s185</td>\n",
       "      <td>Capomulin</td>\n",
       "      <td>Female</td>\n",
       "      <td>3</td>\n",
       "      <td>17</td>\n",
       "      <td>10</td>\n",
       "      <td>37.614948</td>\n",
       "      <td>0</td>\n",
       "    </tr>\n",
       "    <tr>\n",
       "      <td>13</td>\n",
       "      <td>s185</td>\n",
       "      <td>Capomulin</td>\n",
       "      <td>Female</td>\n",
       "      <td>3</td>\n",
       "      <td>17</td>\n",
       "      <td>15</td>\n",
       "      <td>38.177232</td>\n",
       "      <td>0</td>\n",
       "    </tr>\n",
       "    <tr>\n",
       "      <td>14</td>\n",
       "      <td>s185</td>\n",
       "      <td>Capomulin</td>\n",
       "      <td>Female</td>\n",
       "      <td>3</td>\n",
       "      <td>17</td>\n",
       "      <td>20</td>\n",
       "      <td>36.866876</td>\n",
       "      <td>0</td>\n",
       "    </tr>\n",
       "    <tr>\n",
       "      <td>...</td>\n",
       "      <td>...</td>\n",
       "      <td>...</td>\n",
       "      <td>...</td>\n",
       "      <td>...</td>\n",
       "      <td>...</td>\n",
       "      <td>...</td>\n",
       "      <td>...</td>\n",
       "      <td>...</td>\n",
       "    </tr>\n",
       "    <tr>\n",
       "      <td>440</td>\n",
       "      <td>i557</td>\n",
       "      <td>Capomulin</td>\n",
       "      <td>Female</td>\n",
       "      <td>1</td>\n",
       "      <td>24</td>\n",
       "      <td>45</td>\n",
       "      <td>47.685963</td>\n",
       "      <td>1</td>\n",
       "    </tr>\n",
       "    <tr>\n",
       "      <td>1452</td>\n",
       "      <td>r157</td>\n",
       "      <td>Capomulin</td>\n",
       "      <td>Male</td>\n",
       "      <td>22</td>\n",
       "      <td>25</td>\n",
       "      <td>0</td>\n",
       "      <td>45.000000</td>\n",
       "      <td>0</td>\n",
       "    </tr>\n",
       "    <tr>\n",
       "      <td>1453</td>\n",
       "      <td>r157</td>\n",
       "      <td>Capomulin</td>\n",
       "      <td>Male</td>\n",
       "      <td>22</td>\n",
       "      <td>25</td>\n",
       "      <td>5</td>\n",
       "      <td>45.597064</td>\n",
       "      <td>0</td>\n",
       "    </tr>\n",
       "    <tr>\n",
       "      <td>1454</td>\n",
       "      <td>r157</td>\n",
       "      <td>Capomulin</td>\n",
       "      <td>Male</td>\n",
       "      <td>22</td>\n",
       "      <td>25</td>\n",
       "      <td>10</td>\n",
       "      <td>46.059608</td>\n",
       "      <td>0</td>\n",
       "    </tr>\n",
       "    <tr>\n",
       "      <td>1455</td>\n",
       "      <td>r157</td>\n",
       "      <td>Capomulin</td>\n",
       "      <td>Male</td>\n",
       "      <td>22</td>\n",
       "      <td>25</td>\n",
       "      <td>15</td>\n",
       "      <td>46.539206</td>\n",
       "      <td>0</td>\n",
       "    </tr>\n",
       "  </tbody>\n",
       "</table>\n",
       "<p>230 rows × 8 columns</p>\n",
       "</div>"
      ],
      "text/plain": [
       "     Mouse ID Drug Regimen     Sex  Age_months  Weight (g)  Timepoint  \\\n",
       "10       s185    Capomulin  Female           3          17          0   \n",
       "11       s185    Capomulin  Female           3          17          5   \n",
       "12       s185    Capomulin  Female           3          17         10   \n",
       "13       s185    Capomulin  Female           3          17         15   \n",
       "14       s185    Capomulin  Female           3          17         20   \n",
       "...       ...          ...     ...         ...         ...        ...   \n",
       "440      i557    Capomulin  Female           1          24         45   \n",
       "1452     r157    Capomulin    Male          22          25          0   \n",
       "1453     r157    Capomulin    Male          22          25          5   \n",
       "1454     r157    Capomulin    Male          22          25         10   \n",
       "1455     r157    Capomulin    Male          22          25         15   \n",
       "\n",
       "      Tumor Volume (mm3)  Metastatic Sites  \n",
       "10             45.000000                 0  \n",
       "11             43.878496                 0  \n",
       "12             37.614948                 0  \n",
       "13             38.177232                 0  \n",
       "14             36.866876                 0  \n",
       "...                  ...               ...  \n",
       "440            47.685963                 1  \n",
       "1452           45.000000                 0  \n",
       "1453           45.597064                 0  \n",
       "1454           46.059608                 0  \n",
       "1455           46.539206                 0  \n",
       "\n",
       "[230 rows x 8 columns]"
      ]
     },
     "execution_count": 87,
     "metadata": {},
     "output_type": "execute_result"
    }
   ],
   "source": [
    "capom_df"
   ]
  },
  {
   "cell_type": "code",
   "execution_count": 88,
   "metadata": {},
   "outputs": [],
   "source": [
    "capom_corr_df=capom_df[['Mouse ID','Tumor Volume (mm3)']]\n",
    "#capom_corr_df"
   ]
  },
  {
   "cell_type": "code",
   "execution_count": 89,
   "metadata": {},
   "outputs": [
    {
     "data": {
      "text/html": [
       "<div>\n",
       "<style scoped>\n",
       "    .dataframe tbody tr th:only-of-type {\n",
       "        vertical-align: middle;\n",
       "    }\n",
       "\n",
       "    .dataframe tbody tr th {\n",
       "        vertical-align: top;\n",
       "    }\n",
       "\n",
       "    .dataframe thead th {\n",
       "        text-align: right;\n",
       "    }\n",
       "</style>\n",
       "<table border=\"1\" class=\"dataframe\">\n",
       "  <thead>\n",
       "    <tr style=\"text-align: right;\">\n",
       "      <th></th>\n",
       "      <th>Tumor Volume (mm3)</th>\n",
       "    </tr>\n",
       "    <tr>\n",
       "      <th>Mouse ID</th>\n",
       "      <th></th>\n",
       "    </tr>\n",
       "  </thead>\n",
       "  <tbody>\n",
       "    <tr>\n",
       "      <td>b128</td>\n",
       "      <td>41.963636</td>\n",
       "    </tr>\n",
       "    <tr>\n",
       "      <td>b742</td>\n",
       "      <td>40.083699</td>\n",
       "    </tr>\n",
       "    <tr>\n",
       "      <td>f966</td>\n",
       "      <td>36.505973</td>\n",
       "    </tr>\n",
       "    <tr>\n",
       "      <td>g288</td>\n",
       "      <td>41.990097</td>\n",
       "    </tr>\n",
       "    <tr>\n",
       "      <td>g316</td>\n",
       "      <td>44.613344</td>\n",
       "    </tr>\n",
       "    <tr>\n",
       "      <td>i557</td>\n",
       "      <td>44.805810</td>\n",
       "    </tr>\n",
       "    <tr>\n",
       "      <td>i738</td>\n",
       "      <td>39.141053</td>\n",
       "    </tr>\n",
       "    <tr>\n",
       "      <td>j119</td>\n",
       "      <td>44.465236</td>\n",
       "    </tr>\n",
       "    <tr>\n",
       "      <td>j246</td>\n",
       "      <td>43.216925</td>\n",
       "    </tr>\n",
       "    <tr>\n",
       "      <td>l509</td>\n",
       "      <td>44.434474</td>\n",
       "    </tr>\n",
       "    <tr>\n",
       "      <td>l897</td>\n",
       "      <td>42.507261</td>\n",
       "    </tr>\n",
       "    <tr>\n",
       "      <td>m601</td>\n",
       "      <td>34.847470</td>\n",
       "    </tr>\n",
       "    <tr>\n",
       "      <td>m957</td>\n",
       "      <td>39.049816</td>\n",
       "    </tr>\n",
       "    <tr>\n",
       "      <td>r157</td>\n",
       "      <td>45.798970</td>\n",
       "    </tr>\n",
       "    <tr>\n",
       "      <td>r554</td>\n",
       "      <td>36.509212</td>\n",
       "    </tr>\n",
       "    <tr>\n",
       "      <td>r944</td>\n",
       "      <td>43.367364</td>\n",
       "    </tr>\n",
       "    <tr>\n",
       "      <td>s185</td>\n",
       "      <td>34.559143</td>\n",
       "    </tr>\n",
       "    <tr>\n",
       "      <td>s710</td>\n",
       "      <td>42.803733</td>\n",
       "    </tr>\n",
       "    <tr>\n",
       "      <td>t565</td>\n",
       "      <td>39.328725</td>\n",
       "    </tr>\n",
       "    <tr>\n",
       "      <td>u364</td>\n",
       "      <td>39.887495</td>\n",
       "    </tr>\n",
       "    <tr>\n",
       "      <td>v923</td>\n",
       "      <td>41.581595</td>\n",
       "    </tr>\n",
       "    <tr>\n",
       "      <td>w150</td>\n",
       "      <td>41.384825</td>\n",
       "    </tr>\n",
       "    <tr>\n",
       "      <td>w914</td>\n",
       "      <td>41.352452</td>\n",
       "    </tr>\n",
       "    <tr>\n",
       "      <td>x401</td>\n",
       "      <td>36.182040</td>\n",
       "    </tr>\n",
       "    <tr>\n",
       "      <td>y793</td>\n",
       "      <td>38.506829</td>\n",
       "    </tr>\n",
       "  </tbody>\n",
       "</table>\n",
       "</div>"
      ],
      "text/plain": [
       "          Tumor Volume (mm3)\n",
       "Mouse ID                    \n",
       "b128               41.963636\n",
       "b742               40.083699\n",
       "f966               36.505973\n",
       "g288               41.990097\n",
       "g316               44.613344\n",
       "i557               44.805810\n",
       "i738               39.141053\n",
       "j119               44.465236\n",
       "j246               43.216925\n",
       "l509               44.434474\n",
       "l897               42.507261\n",
       "m601               34.847470\n",
       "m957               39.049816\n",
       "r157               45.798970\n",
       "r554               36.509212\n",
       "r944               43.367364\n",
       "s185               34.559143\n",
       "s710               42.803733\n",
       "t565               39.328725\n",
       "u364               39.887495\n",
       "v923               41.581595\n",
       "w150               41.384825\n",
       "w914               41.352452\n",
       "x401               36.182040\n",
       "y793               38.506829"
      ]
     },
     "execution_count": 89,
     "metadata": {},
     "output_type": "execute_result"
    }
   ],
   "source": [
    "capom_vol_gr=capom_corr_df.groupby('Mouse ID').mean()\n",
    "capom_vol_gr"
   ]
  },
  {
   "cell_type": "code",
   "execution_count": 90,
   "metadata": {},
   "outputs": [],
   "source": [
    "capom_wt_df=capom_df[['Mouse ID','Weight (g)']]\n",
    "#capom_wt_df"
   ]
  },
  {
   "cell_type": "code",
   "execution_count": 91,
   "metadata": {},
   "outputs": [
    {
     "data": {
      "text/html": [
       "<div>\n",
       "<style scoped>\n",
       "    .dataframe tbody tr th:only-of-type {\n",
       "        vertical-align: middle;\n",
       "    }\n",
       "\n",
       "    .dataframe tbody tr th {\n",
       "        vertical-align: top;\n",
       "    }\n",
       "\n",
       "    .dataframe thead th {\n",
       "        text-align: right;\n",
       "    }\n",
       "</style>\n",
       "<table border=\"1\" class=\"dataframe\">\n",
       "  <thead>\n",
       "    <tr style=\"text-align: right;\">\n",
       "      <th></th>\n",
       "      <th>Weight (g)</th>\n",
       "    </tr>\n",
       "    <tr>\n",
       "      <th>Mouse ID</th>\n",
       "      <th></th>\n",
       "    </tr>\n",
       "  </thead>\n",
       "  <tbody>\n",
       "    <tr>\n",
       "      <td>b128</td>\n",
       "      <td>22</td>\n",
       "    </tr>\n",
       "    <tr>\n",
       "      <td>b742</td>\n",
       "      <td>21</td>\n",
       "    </tr>\n",
       "    <tr>\n",
       "      <td>f966</td>\n",
       "      <td>17</td>\n",
       "    </tr>\n",
       "    <tr>\n",
       "      <td>g288</td>\n",
       "      <td>19</td>\n",
       "    </tr>\n",
       "    <tr>\n",
       "      <td>g316</td>\n",
       "      <td>22</td>\n",
       "    </tr>\n",
       "    <tr>\n",
       "      <td>i557</td>\n",
       "      <td>24</td>\n",
       "    </tr>\n",
       "    <tr>\n",
       "      <td>i738</td>\n",
       "      <td>20</td>\n",
       "    </tr>\n",
       "    <tr>\n",
       "      <td>j119</td>\n",
       "      <td>23</td>\n",
       "    </tr>\n",
       "    <tr>\n",
       "      <td>j246</td>\n",
       "      <td>21</td>\n",
       "    </tr>\n",
       "    <tr>\n",
       "      <td>l509</td>\n",
       "      <td>21</td>\n",
       "    </tr>\n",
       "    <tr>\n",
       "      <td>l897</td>\n",
       "      <td>19</td>\n",
       "    </tr>\n",
       "    <tr>\n",
       "      <td>m601</td>\n",
       "      <td>17</td>\n",
       "    </tr>\n",
       "    <tr>\n",
       "      <td>m957</td>\n",
       "      <td>19</td>\n",
       "    </tr>\n",
       "    <tr>\n",
       "      <td>r157</td>\n",
       "      <td>25</td>\n",
       "    </tr>\n",
       "    <tr>\n",
       "      <td>r554</td>\n",
       "      <td>17</td>\n",
       "    </tr>\n",
       "    <tr>\n",
       "      <td>r944</td>\n",
       "      <td>25</td>\n",
       "    </tr>\n",
       "    <tr>\n",
       "      <td>s185</td>\n",
       "      <td>17</td>\n",
       "    </tr>\n",
       "    <tr>\n",
       "      <td>s710</td>\n",
       "      <td>23</td>\n",
       "    </tr>\n",
       "    <tr>\n",
       "      <td>t565</td>\n",
       "      <td>17</td>\n",
       "    </tr>\n",
       "    <tr>\n",
       "      <td>u364</td>\n",
       "      <td>17</td>\n",
       "    </tr>\n",
       "    <tr>\n",
       "      <td>v923</td>\n",
       "      <td>21</td>\n",
       "    </tr>\n",
       "    <tr>\n",
       "      <td>w150</td>\n",
       "      <td>23</td>\n",
       "    </tr>\n",
       "    <tr>\n",
       "      <td>w914</td>\n",
       "      <td>21</td>\n",
       "    </tr>\n",
       "    <tr>\n",
       "      <td>x401</td>\n",
       "      <td>15</td>\n",
       "    </tr>\n",
       "    <tr>\n",
       "      <td>y793</td>\n",
       "      <td>17</td>\n",
       "    </tr>\n",
       "  </tbody>\n",
       "</table>\n",
       "</div>"
      ],
      "text/plain": [
       "          Weight (g)\n",
       "Mouse ID            \n",
       "b128              22\n",
       "b742              21\n",
       "f966              17\n",
       "g288              19\n",
       "g316              22\n",
       "i557              24\n",
       "i738              20\n",
       "j119              23\n",
       "j246              21\n",
       "l509              21\n",
       "l897              19\n",
       "m601              17\n",
       "m957              19\n",
       "r157              25\n",
       "r554              17\n",
       "r944              25\n",
       "s185              17\n",
       "s710              23\n",
       "t565              17\n",
       "u364              17\n",
       "v923              21\n",
       "w150              23\n",
       "w914              21\n",
       "x401              15\n",
       "y793              17"
      ]
     },
     "execution_count": 91,
     "metadata": {},
     "output_type": "execute_result"
    }
   ],
   "source": [
    "capom_wt_gr=capom_wt_df.groupby('Mouse ID').first()\n",
    "capom_wt_gr"
   ]
  },
  {
   "cell_type": "code",
   "execution_count": 92,
   "metadata": {},
   "outputs": [],
   "source": [
    "v1=capom_vol_gr.reset_index()\n"
   ]
  },
  {
   "cell_type": "code",
   "execution_count": 93,
   "metadata": {},
   "outputs": [],
   "source": [
    "w1=capom_wt_gr.reset_index()\n"
   ]
  },
  {
   "cell_type": "code",
   "execution_count": 94,
   "metadata": {},
   "outputs": [],
   "source": [
    "v_w=pd.merge(v1,w1,how='left',on='Mouse ID')\n"
   ]
  },
  {
   "cell_type": "code",
   "execution_count": 95,
   "metadata": {},
   "outputs": [],
   "source": [
    "v2=v_w.iloc[:,1]\n"
   ]
  },
  {
   "cell_type": "code",
   "execution_count": 96,
   "metadata": {},
   "outputs": [],
   "source": [
    "w2=v_w.iloc[:,2]"
   ]
  },
  {
   "cell_type": "code",
   "execution_count": 97,
   "metadata": {},
   "outputs": [
    {
     "name": "stdout",
     "output_type": "stream",
     "text": [
      "The correlation between both factors is0.84\n"
     ]
    }
   ],
   "source": [
    "correlation=st.pearsonr(v2,w2)\n",
    "print(f\"The correlation between both factors is{round(correlation[0],2)}\")"
   ]
  },
  {
   "cell_type": "code",
   "execution_count": 98,
   "metadata": {},
   "outputs": [
    {
     "name": "stdout",
     "output_type": "stream",
     "text": [
      "The r-square is:0.8419363424694718\n"
     ]
    },
    {
     "data": {
      "image/png": "[encoded data removed]",
      "text/plain": [
       "<Figure size 432x288 with 1 Axes>"
      ]
     },
     "metadata": {
      "needs_background": "light"
     },
     "output_type": "display_data"
    }
   ],
   "source": [
    "#Linear regression\n",
    "(slope,intercept,rvalue,pvalue,stderr)=linregress(w2,v2)\n",
    "regress_values=w2*slope+intercept\n",
    "line_eq=\"y=\"+str(round(slope,2))+\"x+\"+str(round(intercept,2))\n",
    "#line_eq = \"y = \" + str(round(slope,2)) + \"x + \" + str(round(intercept,2))\n",
    "plt.scatter(w2,v2,color='g')\n",
    "plt.plot(w2,regress_values,\"r-\")\n",
    "plt.annotate(line_eq,(20,36),fontsize=15,color=\"red\")\n",
    "plt.ylabel('Tumor Volume')\n",
    "plt.xlabel('Weight')\n",
    "print(f\"The r-square is:{rvalue}\")\n",
    "#plt.scatter(x_axis,y_axis, marker=\"o\")\n",
    "plt.show()"
   ]
  },
  {
   "cell_type": "code",
   "execution_count": null,
   "metadata": {},
   "outputs": [],
   "source": []
  },
  {
   "cell_type": "code",
   "execution_count": null,
   "metadata": {},
   "outputs": [],
   "source": []
  },
  {
   "cell_type": "code",
   "execution_count": null,
   "metadata": {},
   "outputs": [],
   "source": []
  }
 ],
 "metadata": {
  "anaconda-cloud": {},
  "kernelspec": {
   "display_name": "Python 3",
   "language": "python",
   "name": "python3"
  },
  "language_info": {
   "codemirror_mode": {
    "name": "ipython",
    "version": 3
   },
   "file_extension": ".py",
   "mimetype": "text/x-python",
   "name": "python",
   "nbconvert_exporter": "python",
   "pygments_lexer": "ipython3",
   "version": "3.7.4"
  }
 },
 "nbformat": 4,
 "nbformat_minor": 2
}
