{
 "cells": [
  {
   "cell_type": "markdown",
   "metadata": {},
   "source": [
    "## Observations and Insights"
   ]
  },
  {
   "cell_type": "markdown",
   "metadata": {},
   "source": []
  },
  {
   "cell_type": "markdown",
   "metadata": {},
   "source": [
    "## Dependencies and starter code"
   ]
  },
  {
   "cell_type": "code",
   "execution_count": 253,
   "metadata": {},
   "outputs": [],
   "source": [
    "# Dependencies and Setup\n",
    "import matplotlib.pyplot as plt\n",
    "import pandas as pd\n",
    "import scipy.stats as st\n",
    "\n",
    "# Study data files\n",
    "mouse_metadata = \"data/Mouse_metadata.csv\"\n",
    "study_results = \"data/Study_results.csv\"\n",
    "\n",
    "# Read the mouse data and the study results\n",
    "mouse_metadata = pd.read_csv(mouse_metadata)\n",
    "study_results = pd.read_csv(study_results)\n",
    "\n",
    "# Combine the data into a single dataset"
   ]
  },
  {
   "cell_type": "code",
   "execution_count": 254,
   "metadata": {},
   "outputs": [],
   "source": [
    "#mouse_metadata\n"
   ]
  },
  {
   "cell_type": "markdown",
   "metadata": {},
   "source": [
    "## Summary statistics"
   ]
  },
  {
   "cell_type": "code",
   "execution_count": 255,
   "metadata": {},
   "outputs": [],
   "source": [
    "#study_results"
   ]
  },
  {
   "cell_type": "code",
   "execution_count": 256,
   "metadata": {},
   "outputs": [],
   "source": [
    "# Generate a summary statistics table of mean, median, variance, standard deviation, and SEM of the tumor volume for each regimen"
   ]
  },
  {
   "cell_type": "code",
   "execution_count": 257,
   "metadata": {},
   "outputs": [],
   "source": [
    "df = pd.merge(mouse_metadata, study_results, how=\"left\", on=[\"Mouse ID\", \"Mouse ID\"])"
   ]
  },
  {
   "cell_type": "markdown",
   "metadata": {},
   "source": [
    "## Bar plots"
   ]
  },
  {
   "cell_type": "code",
   "execution_count": 258,
   "metadata": {},
   "outputs": [
    {
     "data": {
      "text/html": [
       "<div>\n",
       "<style scoped>\n",
       "    .dataframe tbody tr th:only-of-type {\n",
       "        vertical-align: middle;\n",
       "    }\n",
       "\n",
       "    .dataframe tbody tr th {\n",
       "        vertical-align: top;\n",
       "    }\n",
       "\n",
       "    .dataframe thead th {\n",
       "        text-align: right;\n",
       "    }\n",
       "</style>\n",
       "<table border=\"1\" class=\"dataframe\">\n",
       "  <thead>\n",
       "    <tr style=\"text-align: right;\">\n",
       "      <th></th>\n",
       "      <th>Mouse ID</th>\n",
       "      <th>Drug Regimen</th>\n",
       "      <th>Sex</th>\n",
       "      <th>Age_months</th>\n",
       "      <th>Weight (g)</th>\n",
       "      <th>Timepoint</th>\n",
       "      <th>Tumor Volume (mm3)</th>\n",
       "      <th>Metastatic Sites</th>\n",
       "    </tr>\n",
       "  </thead>\n",
       "  <tbody>\n",
       "    <tr>\n",
       "      <td>0</td>\n",
       "      <td>k403</td>\n",
       "      <td>Ramicane</td>\n",
       "      <td>Male</td>\n",
       "      <td>21</td>\n",
       "      <td>16</td>\n",
       "      <td>0</td>\n",
       "      <td>45.000000</td>\n",
       "      <td>0</td>\n",
       "    </tr>\n",
       "    <tr>\n",
       "      <td>1</td>\n",
       "      <td>k403</td>\n",
       "      <td>Ramicane</td>\n",
       "      <td>Male</td>\n",
       "      <td>21</td>\n",
       "      <td>16</td>\n",
       "      <td>5</td>\n",
       "      <td>38.825898</td>\n",
       "      <td>0</td>\n",
       "    </tr>\n",
       "    <tr>\n",
       "      <td>2</td>\n",
       "      <td>k403</td>\n",
       "      <td>Ramicane</td>\n",
       "      <td>Male</td>\n",
       "      <td>21</td>\n",
       "      <td>16</td>\n",
       "      <td>10</td>\n",
       "      <td>35.014271</td>\n",
       "      <td>1</td>\n",
       "    </tr>\n",
       "    <tr>\n",
       "      <td>3</td>\n",
       "      <td>k403</td>\n",
       "      <td>Ramicane</td>\n",
       "      <td>Male</td>\n",
       "      <td>21</td>\n",
       "      <td>16</td>\n",
       "      <td>15</td>\n",
       "      <td>34.223992</td>\n",
       "      <td>1</td>\n",
       "    </tr>\n",
       "    <tr>\n",
       "      <td>4</td>\n",
       "      <td>k403</td>\n",
       "      <td>Ramicane</td>\n",
       "      <td>Male</td>\n",
       "      <td>21</td>\n",
       "      <td>16</td>\n",
       "      <td>20</td>\n",
       "      <td>32.997729</td>\n",
       "      <td>1</td>\n",
       "    </tr>\n",
       "    <tr>\n",
       "      <td>...</td>\n",
       "      <td>...</td>\n",
       "      <td>...</td>\n",
       "      <td>...</td>\n",
       "      <td>...</td>\n",
       "      <td>...</td>\n",
       "      <td>...</td>\n",
       "      <td>...</td>\n",
       "      <td>...</td>\n",
       "    </tr>\n",
       "    <tr>\n",
       "      <td>1888</td>\n",
       "      <td>z969</td>\n",
       "      <td>Naftisol</td>\n",
       "      <td>Male</td>\n",
       "      <td>9</td>\n",
       "      <td>30</td>\n",
       "      <td>25</td>\n",
       "      <td>63.145652</td>\n",
       "      <td>2</td>\n",
       "    </tr>\n",
       "    <tr>\n",
       "      <td>1889</td>\n",
       "      <td>z969</td>\n",
       "      <td>Naftisol</td>\n",
       "      <td>Male</td>\n",
       "      <td>9</td>\n",
       "      <td>30</td>\n",
       "      <td>30</td>\n",
       "      <td>65.841013</td>\n",
       "      <td>3</td>\n",
       "    </tr>\n",
       "    <tr>\n",
       "      <td>1890</td>\n",
       "      <td>z969</td>\n",
       "      <td>Naftisol</td>\n",
       "      <td>Male</td>\n",
       "      <td>9</td>\n",
       "      <td>30</td>\n",
       "      <td>35</td>\n",
       "      <td>69.176246</td>\n",
       "      <td>4</td>\n",
       "    </tr>\n",
       "    <tr>\n",
       "      <td>1891</td>\n",
       "      <td>z969</td>\n",
       "      <td>Naftisol</td>\n",
       "      <td>Male</td>\n",
       "      <td>9</td>\n",
       "      <td>30</td>\n",
       "      <td>40</td>\n",
       "      <td>70.314904</td>\n",
       "      <td>4</td>\n",
       "    </tr>\n",
       "    <tr>\n",
       "      <td>1892</td>\n",
       "      <td>z969</td>\n",
       "      <td>Naftisol</td>\n",
       "      <td>Male</td>\n",
       "      <td>9</td>\n",
       "      <td>30</td>\n",
       "      <td>45</td>\n",
       "      <td>73.867845</td>\n",
       "      <td>4</td>\n",
       "    </tr>\n",
       "  </tbody>\n",
       "</table>\n",
       "<p>1893 rows × 8 columns</p>\n",
       "</div>"
      ],
      "text/plain": [
       "     Mouse ID Drug Regimen   Sex  Age_months  Weight (g)  Timepoint  \\\n",
       "0        k403     Ramicane  Male          21          16          0   \n",
       "1        k403     Ramicane  Male          21          16          5   \n",
       "2        k403     Ramicane  Male          21          16         10   \n",
       "3        k403     Ramicane  Male          21          16         15   \n",
       "4        k403     Ramicane  Male          21          16         20   \n",
       "...       ...          ...   ...         ...         ...        ...   \n",
       "1888     z969     Naftisol  Male           9          30         25   \n",
       "1889     z969     Naftisol  Male           9          30         30   \n",
       "1890     z969     Naftisol  Male           9          30         35   \n",
       "1891     z969     Naftisol  Male           9          30         40   \n",
       "1892     z969     Naftisol  Male           9          30         45   \n",
       "\n",
       "      Tumor Volume (mm3)  Metastatic Sites  \n",
       "0              45.000000                 0  \n",
       "1              38.825898                 0  \n",
       "2              35.014271                 1  \n",
       "3              34.223992                 1  \n",
       "4              32.997729                 1  \n",
       "...                  ...               ...  \n",
       "1888           63.145652                 2  \n",
       "1889           65.841013                 3  \n",
       "1890           69.176246                 4  \n",
       "1891           70.314904                 4  \n",
       "1892           73.867845                 4  \n",
       "\n",
       "[1893 rows x 8 columns]"
      ]
     },
     "execution_count": 258,
     "metadata": {},
     "output_type": "execute_result"
    }
   ],
   "source": [
    "df"
   ]
  },
  {
   "cell_type": "code",
   "execution_count": 259,
   "metadata": {},
   "outputs": [],
   "source": [
    "tumor_volume=df[[\"Drug Regimen\",\"Tumor Volume (mm3)\"]]"
   ]
  },
  {
   "cell_type": "code",
   "execution_count": 260,
   "metadata": {},
   "outputs": [],
   "source": [
    "tumor_volume_stat=tumor_volume.groupby(\"Drug Regimen\").describe()"
   ]
  },
  {
   "cell_type": "code",
   "execution_count": 261,
   "metadata": {},
   "outputs": [],
   "source": [
    "#tumor_volume_median=tumor_volume.groupby(\"Drug Regimen\").median()"
   ]
  },
  {
   "cell_type": "code",
   "execution_count": 262,
   "metadata": {},
   "outputs": [],
   "source": [
    "tumor_volume_sem=tumor_volume.groupby(\"Drug Regimen\").sem()"
   ]
  },
  {
   "cell_type": "code",
   "execution_count": 263,
   "metadata": {},
   "outputs": [],
   "source": [
    "#tumor_volume_stat"
   ]
  },
  {
   "cell_type": "code",
   "execution_count": 264,
   "metadata": {},
   "outputs": [],
   "source": [
    "#Rename column in SEM dataframe"
   ]
  },
  {
   "cell_type": "code",
   "execution_count": 265,
   "metadata": {},
   "outputs": [],
   "source": [
    "tumor_volume_sem=tumor_volume_sem.rename({\"Tumor Volume (mm3)\":\"SEM\"},axis=1)"
   ]
  },
  {
   "cell_type": "code",
   "execution_count": 266,
   "metadata": {},
   "outputs": [],
   "source": [
    "#tumor_volume_sem"
   ]
  },
  {
   "cell_type": "code",
   "execution_count": 267,
   "metadata": {},
   "outputs": [],
   "source": [
    "#merging Dataframes"
   ]
  },
  {
   "cell_type": "code",
   "execution_count": 268,
   "metadata": {},
   "outputs": [],
   "source": [
    "tumor_volume_final=pd.merge(tumor_volume_stat,tumor_volume_sem,how=\"left\",on=[\"Drug Regimen\"])"
   ]
  },
  {
   "cell_type": "code",
   "execution_count": 269,
   "metadata": {},
   "outputs": [],
   "source": [
    "#tumor_volume_final=tumor_volume_final.rename({'(Tumor Volume (mm3), count)':'Count','(Tumor Volume (mm3), mean)':'Mean','(Tumor Volume (mm3), std)':'STD','(Tumor Volume (mm3), min)':'MIN','(Tumor Volume (mm3), 25%)':'25%','(Tumor Volume (mm3), 50%)':'MEDIAN','(Tumor Volume (mm3), 75%)':'75%','(Tumor Volume (mm3), max)':'MAX','SEM':'SEM'},axis=1)"
   ]
  },
  {
   "cell_type": "code",
   "execution_count": 270,
   "metadata": {},
   "outputs": [],
   "source": [
    "tumor_volume_final=tumor_volume_final.rename({' count':'Count','mean':'Mean','std':'STD','min':'MIN','25%':'25%','50%':'MEDIAN','75%':'75%','max':'MAX','SEM':'SEM'},axis=1)"
   ]
  },
  {
   "cell_type": "code",
   "execution_count": 271,
   "metadata": {},
   "outputs": [
    {
     "data": {
      "text/html": [
       "<div>\n",
       "<style scoped>\n",
       "    .dataframe tbody tr th:only-of-type {\n",
       "        vertical-align: middle;\n",
       "    }\n",
       "\n",
       "    .dataframe tbody tr th {\n",
       "        vertical-align: top;\n",
       "    }\n",
       "\n",
       "    .dataframe thead th {\n",
       "        text-align: right;\n",
       "    }\n",
       "</style>\n",
       "<table border=\"1\" class=\"dataframe\">\n",
       "  <thead>\n",
       "    <tr style=\"text-align: right;\">\n",
       "      <th></th>\n",
       "      <th>(Tumor Volume (mm3), count)</th>\n",
       "      <th>(Tumor Volume (mm3), mean)</th>\n",
       "      <th>(Tumor Volume (mm3), std)</th>\n",
       "      <th>(Tumor Volume (mm3), min)</th>\n",
       "      <th>(Tumor Volume (mm3), 25%)</th>\n",
       "      <th>(Tumor Volume (mm3), 50%)</th>\n",
       "      <th>(Tumor Volume (mm3), 75%)</th>\n",
       "      <th>(Tumor Volume (mm3), max)</th>\n",
       "      <th>SEM</th>\n",
       "    </tr>\n",
       "    <tr>\n",
       "      <th>Drug Regimen</th>\n",
       "      <th></th>\n",
       "      <th></th>\n",
       "      <th></th>\n",
       "      <th></th>\n",
       "      <th></th>\n",
       "      <th></th>\n",
       "      <th></th>\n",
       "      <th></th>\n",
       "      <th></th>\n",
       "    </tr>\n",
       "  </thead>\n",
       "  <tbody>\n",
       "    <tr>\n",
       "      <td>Capomulin</td>\n",
       "      <td>230.0</td>\n",
       "      <td>40.675741</td>\n",
       "      <td>4.994774</td>\n",
       "      <td>23.343598</td>\n",
       "      <td>37.685933</td>\n",
       "      <td>41.557809</td>\n",
       "      <td>45.000000</td>\n",
       "      <td>48.158209</td>\n",
       "      <td>0.329346</td>\n",
       "    </tr>\n",
       "    <tr>\n",
       "      <td>Ceftamin</td>\n",
       "      <td>178.0</td>\n",
       "      <td>52.591172</td>\n",
       "      <td>6.268188</td>\n",
       "      <td>45.000000</td>\n",
       "      <td>47.208427</td>\n",
       "      <td>51.776157</td>\n",
       "      <td>56.801438</td>\n",
       "      <td>68.923185</td>\n",
       "      <td>0.469821</td>\n",
       "    </tr>\n",
       "    <tr>\n",
       "      <td>Infubinol</td>\n",
       "      <td>178.0</td>\n",
       "      <td>52.884795</td>\n",
       "      <td>6.567243</td>\n",
       "      <td>36.321346</td>\n",
       "      <td>47.312353</td>\n",
       "      <td>51.820584</td>\n",
       "      <td>57.314444</td>\n",
       "      <td>72.226731</td>\n",
       "      <td>0.492236</td>\n",
       "    </tr>\n",
       "    <tr>\n",
       "      <td>Ketapril</td>\n",
       "      <td>188.0</td>\n",
       "      <td>55.235638</td>\n",
       "      <td>8.279709</td>\n",
       "      <td>45.000000</td>\n",
       "      <td>48.232987</td>\n",
       "      <td>53.698743</td>\n",
       "      <td>60.870951</td>\n",
       "      <td>78.567014</td>\n",
       "      <td>0.603860</td>\n",
       "    </tr>\n",
       "    <tr>\n",
       "      <td>Naftisol</td>\n",
       "      <td>186.0</td>\n",
       "      <td>54.331565</td>\n",
       "      <td>8.134708</td>\n",
       "      <td>45.000000</td>\n",
       "      <td>47.285874</td>\n",
       "      <td>52.509285</td>\n",
       "      <td>59.963034</td>\n",
       "      <td>76.668817</td>\n",
       "      <td>0.596466</td>\n",
       "    </tr>\n",
       "    <tr>\n",
       "      <td>Placebo</td>\n",
       "      <td>181.0</td>\n",
       "      <td>54.033581</td>\n",
       "      <td>7.821003</td>\n",
       "      <td>45.000000</td>\n",
       "      <td>47.459053</td>\n",
       "      <td>52.288934</td>\n",
       "      <td>59.916934</td>\n",
       "      <td>73.212939</td>\n",
       "      <td>0.581331</td>\n",
       "    </tr>\n",
       "    <tr>\n",
       "      <td>Propriva</td>\n",
       "      <td>161.0</td>\n",
       "      <td>52.322552</td>\n",
       "      <td>6.507770</td>\n",
       "      <td>45.000000</td>\n",
       "      <td>47.081086</td>\n",
       "      <td>50.854632</td>\n",
       "      <td>56.184664</td>\n",
       "      <td>72.455421</td>\n",
       "      <td>0.512884</td>\n",
       "    </tr>\n",
       "    <tr>\n",
       "      <td>Ramicane</td>\n",
       "      <td>228.0</td>\n",
       "      <td>40.216745</td>\n",
       "      <td>4.846308</td>\n",
       "      <td>22.050126</td>\n",
       "      <td>36.674635</td>\n",
       "      <td>40.673236</td>\n",
       "      <td>45.000000</td>\n",
       "      <td>47.622816</td>\n",
       "      <td>0.320955</td>\n",
       "    </tr>\n",
       "    <tr>\n",
       "      <td>Stelasyn</td>\n",
       "      <td>181.0</td>\n",
       "      <td>54.233149</td>\n",
       "      <td>7.710419</td>\n",
       "      <td>45.000000</td>\n",
       "      <td>48.047139</td>\n",
       "      <td>52.431737</td>\n",
       "      <td>58.719297</td>\n",
       "      <td>75.123690</td>\n",
       "      <td>0.573111</td>\n",
       "    </tr>\n",
       "    <tr>\n",
       "      <td>Zoniferol</td>\n",
       "      <td>182.0</td>\n",
       "      <td>53.236507</td>\n",
       "      <td>6.966589</td>\n",
       "      <td>45.000000</td>\n",
       "      <td>47.337876</td>\n",
       "      <td>51.818479</td>\n",
       "      <td>57.954259</td>\n",
       "      <td>73.324432</td>\n",
       "      <td>0.516398</td>\n",
       "    </tr>\n",
       "  </tbody>\n",
       "</table>\n",
       "</div>"
      ],
      "text/plain": [
       "              (Tumor Volume (mm3), count)  (Tumor Volume (mm3), mean)  \\\n",
       "Drug Regimen                                                            \n",
       "Capomulin                           230.0                   40.675741   \n",
       "Ceftamin                            178.0                   52.591172   \n",
       "Infubinol                           178.0                   52.884795   \n",
       "Ketapril                            188.0                   55.235638   \n",
       "Naftisol                            186.0                   54.331565   \n",
       "Placebo                             181.0                   54.033581   \n",
       "Propriva                            161.0                   52.322552   \n",
       "Ramicane                            228.0                   40.216745   \n",
       "Stelasyn                            181.0                   54.233149   \n",
       "Zoniferol                           182.0                   53.236507   \n",
       "\n",
       "              (Tumor Volume (mm3), std)  (Tumor Volume (mm3), min)  \\\n",
       "Drug Regimen                                                         \n",
       "Capomulin                      4.994774                  23.343598   \n",
       "Ceftamin                       6.268188                  45.000000   \n",
       "Infubinol                      6.567243                  36.321346   \n",
       "Ketapril                       8.279709                  45.000000   \n",
       "Naftisol                       8.134708                  45.000000   \n",
       "Placebo                        7.821003                  45.000000   \n",
       "Propriva                       6.507770                  45.000000   \n",
       "Ramicane                       4.846308                  22.050126   \n",
       "Stelasyn                       7.710419                  45.000000   \n",
       "Zoniferol                      6.966589                  45.000000   \n",
       "\n",
       "              (Tumor Volume (mm3), 25%)  (Tumor Volume (mm3), 50%)  \\\n",
       "Drug Regimen                                                         \n",
       "Capomulin                     37.685933                  41.557809   \n",
       "Ceftamin                      47.208427                  51.776157   \n",
       "Infubinol                     47.312353                  51.820584   \n",
       "Ketapril                      48.232987                  53.698743   \n",
       "Naftisol                      47.285874                  52.509285   \n",
       "Placebo                       47.459053                  52.288934   \n",
       "Propriva                      47.081086                  50.854632   \n",
       "Ramicane                      36.674635                  40.673236   \n",
       "Stelasyn                      48.047139                  52.431737   \n",
       "Zoniferol                     47.337876                  51.818479   \n",
       "\n",
       "              (Tumor Volume (mm3), 75%)  (Tumor Volume (mm3), max)       SEM  \n",
       "Drug Regimen                                                                  \n",
       "Capomulin                     45.000000                  48.158209  0.329346  \n",
       "Ceftamin                      56.801438                  68.923185  0.469821  \n",
       "Infubinol                     57.314444                  72.226731  0.492236  \n",
       "Ketapril                      60.870951                  78.567014  0.603860  \n",
       "Naftisol                      59.963034                  76.668817  0.596466  \n",
       "Placebo                       59.916934                  73.212939  0.581331  \n",
       "Propriva                      56.184664                  72.455421  0.512884  \n",
       "Ramicane                      45.000000                  47.622816  0.320955  \n",
       "Stelasyn                      58.719297                  75.123690  0.573111  \n",
       "Zoniferol                     57.954259                  73.324432  0.516398  "
      ]
     },
     "execution_count": 271,
     "metadata": {},
     "output_type": "execute_result"
    }
   ],
   "source": [
    "tumor_volume_final"
   ]
  },
  {
   "cell_type": "code",
   "execution_count": null,
   "metadata": {},
   "outputs": [],
   "source": []
  },
  {
   "cell_type": "code",
   "execution_count": 272,
   "metadata": {},
   "outputs": [],
   "source": [
    "# Generate a bar plot showing number of data points for each treatment regimen using pandas"
   ]
  },
  {
   "cell_type": "code",
   "execution_count": 273,
   "metadata": {},
   "outputs": [],
   "source": [
    "#tumor_volume_final.plot.bar(figsize=(15,10),width=3)"
   ]
  },
  {
   "cell_type": "code",
   "execution_count": 274,
   "metadata": {},
   "outputs": [
    {
     "data": {
      "text/plain": [
       "<matplotlib.axes._subplots.AxesSubplot at 0x211489cdf88>"
      ]
     },
     "execution_count": 274,
     "metadata": {},
     "output_type": "execute_result"
    },
    {
     "data": {
      "image/png": "[encoded data removed]",
      "text/plain": [
       "<Figure size 1080x720 with 1 Axes>"
      ]
     },
     "metadata": {
      "needs_background": "light"
     },
     "output_type": "display_data"
    }
   ],
   "source": [
    "tumor_volume_final.plot(kind='bar',align='center',figsize=(15,10),width=3)"
   ]
  },
  {
   "cell_type": "code",
   "execution_count": 275,
   "metadata": {},
   "outputs": [],
   "source": [
    "# Generate a bar plot showing number of data points for each treatment regimen using pyplot"
   ]
  },
  {
   "cell_type": "markdown",
   "metadata": {},
   "source": [
    "## Pie plots"
   ]
  },
  {
   "cell_type": "code",
   "execution_count": 276,
   "metadata": {},
   "outputs": [],
   "source": [
    "# Generate a pie plot showing the distribution of female versus male mice using pandas"
   ]
  },
  {
   "cell_type": "code",
   "execution_count": 277,
   "metadata": {},
   "outputs": [],
   "source": [
    "# Generate a pie plot showing the distribution of female versus male mice using pyplot"
   ]
  },
  {
   "cell_type": "markdown",
   "metadata": {},
   "source": [
    "## Quartiles, outliers and boxplots"
   ]
  },
  {
   "cell_type": "code",
   "execution_count": 278,
   "metadata": {},
   "outputs": [],
   "source": [
    "# Calculate the final tumor volume of each mouse across four of the most promising treatment regimens. Calculate the IQR and quantitatively determine if there are any potential outliers. "
   ]
  },
  {
   "cell_type": "code",
   "execution_count": 279,
   "metadata": {},
   "outputs": [],
   "source": [
    "# Generate a box plot of the final tumor volume of each mouse across four regimens of interest"
   ]
  },
  {
   "cell_type": "markdown",
   "metadata": {},
   "source": [
    "## Line and scatter plots"
   ]
  },
  {
   "cell_type": "code",
   "execution_count": 280,
   "metadata": {},
   "outputs": [],
   "source": [
    "# Generate a line plot of time point versus tumor volume for a mouse treated with Capomulin"
   ]
  },
  {
   "cell_type": "code",
   "execution_count": 281,
   "metadata": {},
   "outputs": [],
   "source": [
    "# Generate a scatter plot of mouse weight versus average tumor volume for the Capomulin regimen"
   ]
  },
  {
   "cell_type": "code",
   "execution_count": 282,
   "metadata": {},
   "outputs": [],
   "source": [
    "# Calculate the correlation coefficient and linear regression model for mouse weight and average tumor volume for the Capomulin regimen"
   ]
  },
  {
   "cell_type": "code",
   "execution_count": null,
   "metadata": {},
   "outputs": [],
   "source": []
  },
  {
   "cell_type": "code",
   "execution_count": null,
   "metadata": {},
   "outputs": [],
   "source": []
  },
  {
   "cell_type": "code",
   "execution_count": null,
   "metadata": {},
   "outputs": [],
   "source": []
  },
  {
   "cell_type": "code",
   "execution_count": null,
   "metadata": {},
   "outputs": [],
   "source": []
  },
  {
   "cell_type": "code",
   "execution_count": null,
   "metadata": {},
   "outputs": [],
   "source": []
  }
 ],
 "metadata": {
  "anaconda-cloud": {},
  "kernelspec": {
   "display_name": "Python 3",
   "language": "python",
   "name": "python3"
  },
  "language_info": {
   "codemirror_mode": {
    "name": "ipython",
    "version": 3
   },
   "file_extension": ".py",
   "mimetype": "text/x-python",
   "name": "python",
   "nbconvert_exporter": "python",
   "pygments_lexer": "ipython3",
   "version": "3.7.4"
  }
 },
 "nbformat": 4,
 "nbformat_minor": 2
}
